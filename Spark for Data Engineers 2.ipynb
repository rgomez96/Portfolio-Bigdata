{
 "cells": [
  {
   "cell_type": "markdown",
   "id": "7810bfe7-9a99-4661-b0ae-398645314a28",
   "metadata": {},
   "source": [
    "# **Reto II**"
   ]
  },
  {
   "cell_type": "markdown",
   "id": "991460d3-46be-4619-b92b-095c8aa22e71",
   "metadata": {},
   "source": [
    "### 1. Dataset\n",
    "\n",
    "Los datos de origen son proporcionados en un archivos csv:\n",
    "\n",
    "* udfs: dataset con datos de operaciones financieras.\n",
    "\n",
    "### 2. Columnas y significado:\n",
    "\n",
    "* nb: número de referencia de la operación.\n",
    "* contract: identificador de contrato.\n",
    "* udf_ref: identificador de operación de trading.\n",
    "* fmly: familia a la que pertenece la operación financiera.\n",
    "* grp: grupo al que pertenece la operación financiera.\n",
    "* type: tipo de operación financiera.\n",
    "* country: país de origen de la operación.\n",
    "* udf_name: campo informado en el registro.\n",
    "* num_value: valor numérico.\n",
    "* string_value: valor de cadena de caracteres.\n",
    "* date_value: valor de fecha.\n",
    "* data_timestamp_part: marca temporal.\n",
    "* data_date_part: fecha en la que se almacena la información.\n",
    "* source_system: fuente de los datos.\n",
    "\n",
    "### 3. Descripción del problema:\n",
    "\n",
    "Si hacemos una visión general a nuestro conjunto de datos, podemos observar como hay hasta 10 registros (filas) para cada valor de *nb*, donde cada registro solo da información para un valor de *udf_name*. Esto es un gasto innecesario de almacenamiento y computación, además de complicar los futuros cálculos derivados de estos datos. Por esta razón, necesitamos convertir estos registros con el mismo *nb* a un solo registro.\n",
    "\n",
    "Nuestro dataframe final tendrá que contener las siguientes columnas: `nb, M_CCY, M_CLIENT, M_CRDTCHRG, M_DIRECTIAV, M_DISCMARGIN, M_LIQDTYCHRG, M_MVA, M_RVA, M_SELLER, M_SUCURSAL`\n",
    "\n",
    "* nb: debe contener el número de referencia de la operación.\n",
    "* M_CLIENT, M_SELLER, M_CCY, M_SUCURSAL: deben mapear el valor de *string_value*\n",
    "* M_DISCMARGIN, M_DIRECTIAV, M_LIQDTYCHRG, M_CRDTCHRG, , M_MVA, M_RVA: deben mapear el valor de *num_value*\n",
    "\n",
    "\n",
    "Una vez tengamos este resultado, necesitaremos eliminar las operaciones que no tengan informados ninguno de los siguientes campos:\n",
    "\n",
    "M_DISCMARGIN, M_DIRECTIAV, M_LIQDTYCHRG, M_CRDTCHRG, M_MVA, M_RVA, M_SELLER\n",
    "\n",
    "No informados en este caso significa que o son valores nulos, vacíos o 0, en el caso de los campos numéricos.\n",
    "\n",
    "### 4. Reto:\n",
    "\n",
    "* Obtener un dataframe final que contenga las columnas indicadas, con un registro por *nb* y con los valores correctos mapeados.\n",
    "* Las operaciones con los campos M_DISCMARGIN, M_DIRECTIAV, M_LIQDTYCHRG, M_CRDTCHRG, , M_MVA, M_RVA, M_SELLER no informados no deben existir.\n",
    "* Hacerlo de la manera más eficiente posible a nivel computacional.\n",
    "\n",
    "**NOTA:** Cada uno de los pasos descritos en el problema pueden efectuarse en una sola línea."
   ]
  },
  {
   "cell_type": "markdown",
   "id": "01b9d0f8-6824-4c6a-9c8d-e189cc012e6a",
   "metadata": {},
   "source": [
    "### Inicialización de SparkSession:"
   ]
  },
  {
   "cell_type": "code",
   "execution_count": 1,
   "id": "d23122c1-afdd-4b5d-935b-15ba433a036f",
   "metadata": {},
   "outputs": [
    {
     "data": {
      "text/plain": [
       "Intitializing Scala interpreter ..."
      ]
     },
     "metadata": {},
     "output_type": "display_data"
    },
    {
     "data": {
      "text/plain": [
       "Spark Web UI available at http://L2111027.bosonit.local:4040\n",
       "SparkContext available as 'sc' (version = 3.1.2, master = local[*], app id = local-1641556471322)\n",
       "SparkSession available as 'spark'\n"
      ]
     },
     "metadata": {},
     "output_type": "display_data"
    },
    {
     "data": {
      "text/plain": [
       "import org.apache.spark.sql.SparkSession\r\n",
       "spark: org.apache.spark.sql.SparkSession = org.apache.spark.sql.SparkSession@2da29696\r\n"
      ]
     },
     "execution_count": 1,
     "metadata": {},
     "output_type": "execute_result"
    }
   ],
   "source": [
    "import org.apache.spark.sql.SparkSession\n",
    "\n",
    "val spark = SparkSession.builder()\n",
    "                        .appName(\"Reto 2\")\n",
    "                        .master(\"local\")\n",
    "                        .getOrCreate()"
   ]
  },
  {
   "cell_type": "code",
   "execution_count": 2,
   "id": "6317b0bd-48ef-4598-9391-a04128d51dea",
   "metadata": {},
   "outputs": [
    {
     "data": {
      "text/plain": [
       "udfs: org.apache.spark.sql.DataFrame = [nb: string, contract: string ... 12 more fields]\r\n"
      ]
     },
     "execution_count": 2,
     "metadata": {},
     "output_type": "execute_result"
    }
   ],
   "source": [
    "val udfs = spark.read.format(\"csv\")\n",
    "                     .option(\"header\", \"true\")\n",
    "                     .option(\"delimiter\", \";\")\n",
    "                     .load(\"./reto2/udfs.csv\")"
   ]
  },
  {
   "cell_type": "markdown",
   "id": "b64e281a-7e09-4627-91ca-eefa8c1ed7dc",
   "metadata": {},
   "source": [
    "### Resultado:\n",
    "\n",
    "**INSTRUCCIONES**: El DataFrame resultante debe almacenarse en la variable `resultado`, sustituyendo el valor `None` por el código que consideréis oportuno. De esta forma podréis comprobar si el resultado es correcto."
   ]
  },
  {
   "cell_type": "code",
   "execution_count": 3,
   "id": "dea6f695",
   "metadata": {},
   "outputs": [
    {
     "name": "stdout",
     "output_type": "stream",
     "text": [
      "+-------+--------+-------+----+---+----+-------+------------+---------------+------------+----------+-------------------+--------------+-------------+\n",
      "|     nb|contract|udf_ref|fmly|grp|type|country|    udf_name|      num_value|string_value|date_value|data_timestamp_part|data_date_part|source_system|\n",
      "+-------+--------+-------+----+---+----+-------+------------+---------------+------------+----------+-------------------+--------------+-------------+\n",
      "|2222222| 2222222|2222222| IRD|IRS|null|    ESP|  M_CRDTCHRG|30.000000000000|        NULL|      NULL|     20210203032054|    2020-12-30|        Mx3EU|\n",
      "|2222222| 2222222|2222222| IRD|IRS|null|    ESP|    M_SELLER|           NULL|  LB_TLECLER|      NULL|     20210203032054|    2020-12-30|        Mx3EU|\n",
      "|2222222| 2222222|2222222| IRD|IRS|null|    ESP|M_LIQDTYCHRG|50.000000000000|        NULL|      NULL|     20210203032054|    2020-12-30|        Mx3EU|\n",
      "|2222222| 2222222|2222222| IRD|IRS|null|    ESP|       M_MVA|             20|        NULL|      NULL|     20210203032054|    2020-12-30|        Mx3EU|\n",
      "|2222222| 2222222|2222222| IRD|IRS|null|    ESP|  M_SUCURSAL|           NULL|        1999|      NULL|     20210203032054|    2020-12-30|        Mx3EU|\n",
      "|2222222| 2222222|2222222| IRD|IRS|null|    ESP|       M_RVA| 0.000000000000|        NULL|      NULL|     20210203032054|    2020-12-30|        Mx3EU|\n",
      "|2222222| 2222222|2222222| IRD|IRS|null|    ESP| M_DIRECTIAV| 0.000000000000|        NULL|      NULL|     20210203032054|    2020-12-30|        Mx3EU|\n",
      "|2222222| 2222222|2222222| IRD|IRS|null|    ESP|    M_CLIENT|           NULL|        CCMO|      NULL|     20210203032054|    2020-12-30|        Mx3EU|\n",
      "|2222222| 2222222|2222222| IRD|IRS|null|    ESP|M_DISCMARGIN|             10|        NULL|      NULL|     20210203032054|    2020-12-30|        Mx3EU|\n",
      "|2222222| 2222222|2222222| IRD|IRS|null|    ESP|       M_CCY|           NULL|         USD|      NULL|     20210203032054|    2020-12-30|        Mx3EU|\n",
      "+-------+--------+-------+----+---+----+-------+------------+---------------+------------+----------+-------------------+--------------+-------------+\n",
      "\n"
     ]
    }
   ],
   "source": [
    "// Husmeando un poco el dataset inicial\n",
    "udfs.where($\"nb\"===\"2222222\").show()"
   ]
  },
  {
   "cell_type": "code",
   "execution_count": 4,
   "id": "242b2d7b",
   "metadata": {},
   "outputs": [
    {
     "name": "stdout",
     "output_type": "stream",
     "text": [
      "+-------+--------+-------+----+---+----+-------+------------+--------------+------------+----------+-------------------+--------------+-------------+\n",
      "|     nb|contract|udf_ref|fmly|grp|type|country|    udf_name|     num_value|string_value|date_value|data_timestamp_part|data_date_part|source_system|\n",
      "+-------+--------+-------+----+---+----+-------+------------+--------------+------------+----------+-------------------+--------------+-------------+\n",
      "|3815982| 3672136|4951879| SCF|SCF| SCF|    ESP|M_DISCMARGIN|0.000000000000|        NULL|      NULL|     20200406103021|    2020-12-30|        Mx3EU|\n",
      "|3815982| 3672136|4951879| SCF|SCF| SCF|    ESP|  M_SUCURSAL|          NULL|        null|      NULL|     20200406103021|    2020-12-30|        Mx3EU|\n",
      "|3815982| 3672136|4951879| SCF|SCF| SCF|    ESP|       M_RVA|0.000000000000|        NULL|      NULL|     20200406103021|    2020-12-30|        Mx3EU|\n",
      "|3815982| 3672136|4951879| SCF|SCF| SCF|    ESP|M_LIQDTYCHRG|0.000000000000|        NULL|      NULL|     20200406103021|    2020-12-30|        Mx3EU|\n",
      "|3815982| 3672136|4951879| SCF|SCF| SCF|    ESP|  M_CRDTCHRG|0.000000000000|        NULL|      NULL|     20200406103021|    2020-12-30|        Mx3EU|\n",
      "|3815982| 3672136|4951879| SCF|SCF| SCF|    ESP|       M_MVA|0.000000000000|        NULL|      NULL|     20200406103021|    2020-12-30|        Mx3EU|\n",
      "|3815982| 3672136|4951879| SCF|SCF| SCF|    ESP|    M_SELLER|          NULL|        null|      NULL|     20200406103021|    2020-12-30|        Mx3EU|\n",
      "|3815982| 3672136|4951879| SCF|SCF| SCF|    ESP|    M_CLIENT|          NULL|        null|      NULL|     20200406103021|    2020-12-30|        Mx3EU|\n",
      "|3815982| 3672136|4951879| SCF|SCF| SCF|    ESP| M_DIRECTIAV|0.000000000000|        NULL|      NULL|     20200406103021|    2020-12-30|        Mx3EU|\n",
      "|3815982| 3672136|4951879| SCF|SCF| SCF|    ESP|       M_CCY|          NULL|        null|      NULL|     20200406103021|    2020-12-30|        Mx3EU|\n",
      "+-------+--------+-------+----+---+----+-------+------------+--------------+------------+----------+-------------------+--------------+-------------+\n",
      "\n"
     ]
    }
   ],
   "source": [
    "// Churreteando un poco el dataset inicial\n",
    "udfs.where($\"nb\"===\"3815982\").show()"
   ]
  },
  {
   "cell_type": "code",
   "execution_count": 5,
   "id": "6d5e3671",
   "metadata": {},
   "outputs": [
    {
     "name": "stdout",
     "output_type": "stream",
     "text": [
      "+---------+-----+--------+---------------+--------------+------------+---------------+-----+--------------+----------+----------+\n",
      "|       nb|M_CCY|M_CLIENT|     M_CRDTCHRG|   M_DIRECTIAV|M_DISCMARGIN|   M_LIQDTYCHRG|M_MVA|         M_RVA|  M_SELLER|M_SUCURSAL|\n",
      "+---------+-----+--------+---------------+--------------+------------+---------------+-----+--------------+----------+----------+\n",
      "| 20513130| null|    CCMO| 0.000000000000|0.000000000000|          10| 0.000000000000|   20|0.000000000000|      WATT|      5493|\n",
      "| 18710605|  MXN|    null|           null|0.000000000000|        null|           null| null|          null|      AMAM|      null|\n",
      "| 20533916| null|    CCMO| 0.000000000000|0.000000000000|          50| 0.000000000000|   30|0.000000000000|      WATT|      1999|\n",
      "| 23097010|  EUR|    null|           null|0.000000000000|        null|           null| null|          null|      AMAM|      null|\n",
      "|555111222|  USD|    null|30.000000000000|0.000000000000|          10|50.000000000000|   20|0.000000000000|LB_TLECLER|      1999|\n",
      "+---------+-----+--------+---------------+--------------+------------+---------------+-----+--------------+----------+----------+\n",
      "only showing top 5 rows\n",
      "\n"
     ]
    },
    {
     "data": {
      "text/plain": [
       "pivote1: org.apache.spark.sql.DataFrame = [nb: string, M_CCY: string ... 10 more fields]\r\n",
       "pivote2: org.apache.spark.sql.DataFrame = [nb: string, M_CCY: string ... 10 more fields]\r\n",
       "joined_pivotes: org.apache.spark.sql.DataFrame = [nb: string, M_CCY: string ... 22 more fields]\r\n",
       "joined_pivotes_limpio: org.apache.spark.sql.DataFrame = [nb: string, M_CCY: string ... 9 more fields]\r\n"
      ]
     },
     "execution_count": 5,
     "metadata": {},
     "output_type": "execute_result"
    }
   ],
   "source": [
    "val pivote1 = udfs.groupBy($\"nb\").pivot($\"udf_name\").agg(first($\"string_value\"))\n",
    "val pivote2 = udfs.groupBy($\"nb\").pivot($\"udf_name\").agg(first($\"num_value\"))\n",
    "\n",
    "val joined_pivotes = pivote1.as(\"a\").join(pivote2.as(\"b\"),$\"a.nb\" === $\"b.nb\" ,\"inner\")\n",
    "\n",
    "val joined_pivotes_limpio = joined_pivotes.select($\"a.nb\", $\"a.M_CCY\", $\"a.M_CLIENT\", $\"b.M_CRDTCHRG\", $\"b.M_DIRECTIAV\", $\"b.M_DISCMARGIN\", $\"b.M_LIQDTYCHRG\", \n",
    "$\"b.M_MVA\", $\"b.M_RVA\", $\"a.M_SELLER\", $\"a.M_SUCURSAL\")\n",
    "\n",
    "joined_pivotes_limpio.show(5)"
   ]
  },
  {
   "cell_type": "code",
   "execution_count": 6,
   "metadata": {},
   "outputs": [
    {
     "name": "stdout",
     "output_type": "stream",
     "text": [
      "+---------+-----+--------+---------------+-----------------+--------------+---------------+--------------+--------------+----------+----------+\n",
      "|       nb|M_CCY|M_CLIENT|     M_CRDTCHRG|      M_DIRECTIAV|  M_DISCMARGIN|   M_LIQDTYCHRG|         M_MVA|         M_RVA|  M_SELLER|M_SUCURSAL|\n",
      "+---------+-----+--------+---------------+-----------------+--------------+---------------+--------------+--------------+----------+----------+\n",
      "| 20513130| null|    CCMO| 0.000000000000|   0.000000000000|            10| 0.000000000000|            20|0.000000000000|      WATT|      5493|\n",
      "| 18710605|  MXN|    null|           null|   0.000000000000|          null|           null|          null|          null|      AMAM|      null|\n",
      "| 20533916| null|    CCMO| 0.000000000000|   0.000000000000|            50| 0.000000000000|            30|0.000000000000|      WATT|      1999|\n",
      "| 23097010|  EUR|    null|           null|   0.000000000000|          null|           null|          null|          null|      AMAM|      null|\n",
      "|555111222|  USD|    null|30.000000000000|   0.000000000000|            10|50.000000000000|            20|0.000000000000|LB_TLECLER|      1999|\n",
      "| 22784054|  EUR|    null|           null|   0.000000000000|          null|           null|          null|          null|      AMAM|      null|\n",
      "| 22798005|  EUR|    null|           null|   0.000000000000|          null|           null|          null|          null|      AMAM|      null|\n",
      "| 22853656|  BRL|    null|           null|   0.000000000000|          null|           null|          null|          null|      AMAM|      null|\n",
      "| 10000001| null|    NULL|             20|   0.000000000000|            10|             30|0.000000000000|0.000000000000|   SELLER1|      1999|\n",
      "| 19665186| null|    NULL|20.000000000000|1200.000000000000|           100|20.000000000000|0.000000000000|0.000000000000|LB_VSTAVRE|      5493|\n",
      "| 23037162|  EUR|    null|           null|   0.000000000000|          null|           null|          null|          null|      AMAM|      null|\n",
      "| 33333333| null|    null| 0.000000000000|   0.000000000000|0.000000000000| 0.000000000000|0.000000000000|0.000000000000|   SSSSSSS|      null|\n",
      "| 23126648|  USD|    null|           null|   0.000000000000|          null|           null|          null|          null|      AMAM|      null|\n",
      "|316391872|  EUR|    null|           null|   0.000000000000|          null|           null|          null|          null|      AMAM|      null|\n",
      "|444111222| null|    MMMM| 0.000000000000|             9056|0.000000000000| 0.000000000000|            20|          8956|    VVVVVV|      1212|\n",
      "| 67843276|  EUR|    null|           null|   0.000000000000|          null|           null|          null|          null|      AMAM|      null|\n",
      "| 18937013|  EUR|    null|           null|   0.000000000000|          null|           null|          null|          null|      AMAM|      null|\n",
      "| 19665185| null|    NULL|20.000000000000|1200.000000000000|0.000000000000|20.000000000000|0.000000000000|0.000000000000|LB_VSTAVRE|      5493|\n",
      "| 20665178| null|    NULL|20.000000000000|1200.000000000000|           100|20.000000000000|0.000000000000|0.000000000000|LB_VSTAVRE|      5493|\n",
      "| 22980629|  EUR|    null|           null|   0.000000000000|          null|           null|          null|          null|      AMAM|      null|\n",
      "+---------+-----+--------+---------------+-----------------+--------------+---------------+--------------+--------------+----------+----------+\n",
      "only showing top 20 rows\n",
      "\n"
     ]
    },
    {
     "data": {
      "text/plain": [
       "resultado: org.apache.spark.sql.Dataset[org.apache.spark.sql.Row] = [nb: string, M_CCY: string ... 9 more fields]\r\n"
      ]
     },
     "execution_count": 6,
     "metadata": {},
     "output_type": "execute_result"
    }
   ],
   "source": [
    "val resultado = joined_pivotes_limpio.where(($\"M_CCY\" !== \"NULL\") || ($\"M_CLIENT\" !== \"NULL\") || (($\"M_CRDTCHRG\" !== \"0.000000000000\") && ($\"M_CRDTCHRG\" !== \"NULL\")) || (($\"M_DIRECTIAV\" !== \"0.000000000000\") && ($\"M_DIRECTIAV\" !== \"NULL\")) || (($\"M_DISCMARGIN\" !== \"0.000000000000\") && ($\"M_DISCMARGIN\" !== \"NULL\")) || (($\"M_LIQDTYCHRG\" !== \"0.000000000000\") && ($\"M_LIQDTYCHRG\" !== \"NULL\")) || (($\"M_RVA\" !== \"0.000000000000\") && ($\"M_RVA\" !== \"NULL\")) || (($\"M_MVA\" !== \"0.000000000000\") && ($\"M_MVA\" !== \"NULL\")) || ($\"M_SELLER\" !== \"NULL\") || ($\"M_SUCURSAL\" !== \"NULL\"))\n",
    "\n",
    "resultado.show()"
   ]
  },
  {
   "cell_type": "code",
   "execution_count": 7,
   "id": "4c94d779-7dd1-4804-9659-c61ae306a0eb",
   "metadata": {},
   "outputs": [],
   "source": [
    "assert(resultado.count() == 60)\n",
    "assert(resultado.columns.size == 11)\n",
    "assert(resultado.columns(4) == \"M_DIRECTIAV\")\n",
    "assert(resultado.select(\"M_SELLER\").filter($\"nb\" === 23037162).first.getString(0) == \"AMAM\")\n",
    "assert(resultado.select(\"M_SELLER\").filter($\"nb\" === 19665186).first.getString(0) == \"LB_VSTAVRE\")\n",
    "assert(resultado.select(\"M_RVA\").filter($\"nb\" === 444111222).first.getString(0) == \"8956\")"
   ]
  }
 ],
 "metadata": {
  "kernelspec": {
   "display_name": "spylon-kernel",
   "language": "scala",
   "name": "spylon-kernel"
  },
  "language_info": {
   "codemirror_mode": "text/x-scala",
   "file_extension": ".scala",
   "help_links": [
    {
     "text": "MetaKernel Magics",
     "url": "https://metakernel.readthedocs.io/en/latest/source/README.html"
    }
   ],
   "mimetype": "text/x-scala",
   "name": "scala",
   "pygments_lexer": "scala",
   "version": "0.4.1"
  }
 },
 "nbformat": 4,
 "nbformat_minor": 5
}
