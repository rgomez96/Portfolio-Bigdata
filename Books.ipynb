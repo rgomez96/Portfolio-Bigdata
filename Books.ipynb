{
 "cells": [
  {
   "cell_type": "markdown",
   "id": "68cb0950-c321-441e-9359-4ece2ec2a6ee",
   "metadata": {},
   "source": [
    "# Dado el dataset de rating de goodreads (1.1GB) https://www.kaggle.com/bahramjannesarr/goodreads-book-datasets-10m determinar:"
   ]
  },
  {
   "cell_type": "markdown",
   "id": "9c3a7ddf-5ed7-465f-9b8c-f52881415bcb",
   "metadata": {},
   "source": [
    "### 1.- Rating promedio de todos los libros"
   ]
  },
  {
   "cell_type": "code",
   "execution_count": 1,
   "id": "44a65812-0131-4e3c-96f1-f35a73508e3d",
   "metadata": {},
   "outputs": [],
   "source": [
    "from pyspark.sql import SparkSession\n",
    "from pyspark import SparkContext\n",
    "import pyspark.sql.functions as F\n",
    "from pyspark.sql.types import *\n",
    "\n",
    "spark = SparkSession\\\n",
    "    .builder\\\n",
    "    .appName(\"GoodReads\")\\\n",
    "    .getOrCreate()"
   ]
  },
  {
   "cell_type": "code",
   "execution_count": 2,
   "id": "b2cc0d78-f5bd-421b-a352-aa051a441d59",
   "metadata": {},
   "outputs": [],
   "source": [
    "# Imports necesarios\n",
    "from os import listdir\n",
    "from os.path import isfile, join\n",
    "\n",
    "# Obtén la ruta relativa de los archivos del dataset.\n",
    "mypath=\"books/\"\n",
    "onlyfiles = [mypath+f for f in listdir(mypath) if isfile(join(mypath, f))]\n",
    "\n",
    "# Crea un DF vacío o no podrá concatenar.\n",
    "booksDF=spark.createDataFrame([], StructType([]))\n",
    "\n",
    "# Lee cada csv uno a uno y concatenalo con nuestro dataframe.\n",
    "# Es importante hacerlo así en lugar de leer directamente la carpeta porque nuestros archivos tienen las columnas desordenadas\n",
    "# Y algunos archivos tienen incluso columnas extra, resultando en datos desordenados porque todos intentan usar el mismo esquema.\n",
    "for i in onlyfiles:\n",
    "    df_aux = (spark.read.format(\"csv\")\n",
    "    .option(\"header\", \"true\")\n",
    "    .option(\"inferSchema\", \"true\")\n",
    "    .option(\"quote\", \"\\\"\")\n",
    "    .option(\"escape\",\"\\\"\")\n",
    "    .option(\"multiLine\",\"true\").load(i))\n",
    "    booksDF=booksDF.unionByName(df_aux, allowMissingColumns=True)\n",
    "\n",
    "# Las columnas tienen un orden un poco extraño pero no importa."
   ]
  },
  {
   "cell_type": "code",
   "execution_count": 3,
   "id": "59659ca5-0ae7-4770-bb70-9682e475f220",
   "metadata": {
    "tags": []
   },
   "outputs": [
    {
     "data": {
      "text/html": [
       "<div>\n",
       "<style scoped>\n",
       "    .dataframe tbody tr th:only-of-type {\n",
       "        vertical-align: middle;\n",
       "    }\n",
       "\n",
       "    .dataframe tbody tr th {\n",
       "        vertical-align: top;\n",
       "    }\n",
       "\n",
       "    .dataframe thead th {\n",
       "        text-align: right;\n",
       "    }\n",
       "</style>\n",
       "<table border=\"1\" class=\"dataframe\">\n",
       "  <thead>\n",
       "    <tr style=\"text-align: right;\">\n",
       "      <th></th>\n",
       "      <th>Id</th>\n",
       "      <th>Name</th>\n",
       "      <th>RatingDist1</th>\n",
       "      <th>pagesNumber</th>\n",
       "      <th>RatingDist4</th>\n",
       "      <th>RatingDistTotal</th>\n",
       "      <th>PublishMonth</th>\n",
       "      <th>PublishDay</th>\n",
       "      <th>Publisher</th>\n",
       "      <th>CountsOfReview</th>\n",
       "      <th>PublishYear</th>\n",
       "      <th>Language</th>\n",
       "      <th>Authors</th>\n",
       "      <th>Rating</th>\n",
       "      <th>RatingDist2</th>\n",
       "      <th>RatingDist5</th>\n",
       "      <th>ISBN</th>\n",
       "      <th>RatingDist3</th>\n",
       "      <th>Description</th>\n",
       "      <th>Count of text reviews</th>\n",
       "    </tr>\n",
       "  </thead>\n",
       "  <tbody>\n",
       "    <tr>\n",
       "      <th>0</th>\n",
       "      <td>1</td>\n",
       "      <td>Harry Potter and the Half-Blood Prince (Harry ...</td>\n",
       "      <td>1:9896</td>\n",
       "      <td>652</td>\n",
       "      <td>4:556485</td>\n",
       "      <td>total:2298124</td>\n",
       "      <td>16</td>\n",
       "      <td>9</td>\n",
       "      <td>Scholastic Inc.</td>\n",
       "      <td>28062</td>\n",
       "      <td>2006</td>\n",
       "      <td>eng</td>\n",
       "      <td>J.K. Rowling</td>\n",
       "      <td>4.57</td>\n",
       "      <td>2:25317</td>\n",
       "      <td>5:1546466</td>\n",
       "      <td>None</td>\n",
       "      <td>3:159960</td>\n",
       "      <td>None</td>\n",
       "      <td>NaN</td>\n",
       "    </tr>\n",
       "    <tr>\n",
       "      <th>1</th>\n",
       "      <td>2</td>\n",
       "      <td>Harry Potter and the Order of the Phoenix (Har...</td>\n",
       "      <td>1:12455</td>\n",
       "      <td>870</td>\n",
       "      <td>4:604283</td>\n",
       "      <td>total:2358637</td>\n",
       "      <td>1</td>\n",
       "      <td>9</td>\n",
       "      <td>Scholastic Inc.</td>\n",
       "      <td>29770</td>\n",
       "      <td>2004</td>\n",
       "      <td>eng</td>\n",
       "      <td>J.K. Rowling</td>\n",
       "      <td>4.50</td>\n",
       "      <td>2:37005</td>\n",
       "      <td>5:1493113</td>\n",
       "      <td>0439358078</td>\n",
       "      <td>3:211781</td>\n",
       "      <td>None</td>\n",
       "      <td>NaN</td>\n",
       "    </tr>\n",
       "    <tr>\n",
       "      <th>2</th>\n",
       "      <td>3</td>\n",
       "      <td>Harry Potter and the Sorcerer's Stone (Harry P...</td>\n",
       "      <td>1:108202</td>\n",
       "      <td>309</td>\n",
       "      <td>4:1513191</td>\n",
       "      <td>total:6587388</td>\n",
       "      <td>1</td>\n",
       "      <td>11</td>\n",
       "      <td>Scholastic Inc</td>\n",
       "      <td>75911</td>\n",
       "      <td>2003</td>\n",
       "      <td>eng</td>\n",
       "      <td>J.K. Rowling</td>\n",
       "      <td>4.47</td>\n",
       "      <td>2:130310</td>\n",
       "      <td>5:4268227</td>\n",
       "      <td>None</td>\n",
       "      <td>3:567458</td>\n",
       "      <td>None</td>\n",
       "      <td>NaN</td>\n",
       "    </tr>\n",
       "    <tr>\n",
       "      <th>3</th>\n",
       "      <td>4</td>\n",
       "      <td>Harry Potter and the Chamber of Secrets (Harry...</td>\n",
       "      <td>1:11896</td>\n",
       "      <td>352</td>\n",
       "      <td>4:706082</td>\n",
       "      <td>total:2560657</td>\n",
       "      <td>1</td>\n",
       "      <td>11</td>\n",
       "      <td>Scholastic</td>\n",
       "      <td>244</td>\n",
       "      <td>2003</td>\n",
       "      <td>eng</td>\n",
       "      <td>J.K. Rowling</td>\n",
       "      <td>4.42</td>\n",
       "      <td>2:49353</td>\n",
       "      <td>5:1504505</td>\n",
       "      <td>0439554896</td>\n",
       "      <td>3:288821</td>\n",
       "      <td>None</td>\n",
       "      <td>NaN</td>\n",
       "    </tr>\n",
       "    <tr>\n",
       "      <th>4</th>\n",
       "      <td>5</td>\n",
       "      <td>Harry Potter and the Prisoner of Azkaban (Harr...</td>\n",
       "      <td>1:10128</td>\n",
       "      <td>435</td>\n",
       "      <td>4:630534</td>\n",
       "      <td>total:2610317</td>\n",
       "      <td>1</td>\n",
       "      <td>5</td>\n",
       "      <td>Scholastic Inc.</td>\n",
       "      <td>37093</td>\n",
       "      <td>2004</td>\n",
       "      <td>eng</td>\n",
       "      <td>J.K. Rowling</td>\n",
       "      <td>4.57</td>\n",
       "      <td>2:24849</td>\n",
       "      <td>5:1749958</td>\n",
       "      <td>043965548X</td>\n",
       "      <td>3:194848</td>\n",
       "      <td>None</td>\n",
       "      <td>NaN</td>\n",
       "    </tr>\n",
       "  </tbody>\n",
       "</table>\n",
       "</div>"
      ],
      "text/plain": [
       "   Id                                               Name RatingDist1  \\\n",
       "0   1  Harry Potter and the Half-Blood Prince (Harry ...      1:9896   \n",
       "1   2  Harry Potter and the Order of the Phoenix (Har...     1:12455   \n",
       "2   3  Harry Potter and the Sorcerer's Stone (Harry P...    1:108202   \n",
       "3   4  Harry Potter and the Chamber of Secrets (Harry...     1:11896   \n",
       "4   5  Harry Potter and the Prisoner of Azkaban (Harr...     1:10128   \n",
       "\n",
       "   pagesNumber RatingDist4 RatingDistTotal  PublishMonth  PublishDay  \\\n",
       "0          652    4:556485   total:2298124            16           9   \n",
       "1          870    4:604283   total:2358637             1           9   \n",
       "2          309   4:1513191   total:6587388             1          11   \n",
       "3          352    4:706082   total:2560657             1          11   \n",
       "4          435    4:630534   total:2610317             1           5   \n",
       "\n",
       "         Publisher  CountsOfReview  PublishYear Language       Authors  \\\n",
       "0  Scholastic Inc.           28062         2006      eng  J.K. Rowling   \n",
       "1  Scholastic Inc.           29770         2004      eng  J.K. Rowling   \n",
       "2   Scholastic Inc           75911         2003      eng  J.K. Rowling   \n",
       "3       Scholastic             244         2003      eng  J.K. Rowling   \n",
       "4  Scholastic Inc.           37093         2004      eng  J.K. Rowling   \n",
       "\n",
       "   Rating RatingDist2 RatingDist5        ISBN RatingDist3 Description  \\\n",
       "0    4.57     2:25317   5:1546466        None    3:159960        None   \n",
       "1    4.50     2:37005   5:1493113  0439358078    3:211781        None   \n",
       "2    4.47    2:130310   5:4268227        None    3:567458        None   \n",
       "3    4.42     2:49353   5:1504505  0439554896    3:288821        None   \n",
       "4    4.57     2:24849   5:1749958  043965548X    3:194848        None   \n",
       "\n",
       "   Count of text reviews  \n",
       "0                    NaN  \n",
       "1                    NaN  \n",
       "2                    NaN  \n",
       "3                    NaN  \n",
       "4                    NaN  "
      ]
     },
     "execution_count": 3,
     "metadata": {},
     "output_type": "execute_result"
    }
   ],
   "source": [
    "# Sólo para comprobar que todo está bien.\n",
    "booksDF.limit(5).toPandas()"
   ]
  },
  {
   "cell_type": "code",
   "execution_count": 4,
   "id": "bc17babd-9941-44fe-9da9-57f5fea148a8",
   "metadata": {},
   "outputs": [
    {
     "name": "stdout",
     "output_type": "stream",
     "text": [
      "+-----------------+\n",
      "|      avg(Rating)|\n",
      "+-----------------+\n",
      "|2.894242694467414|\n",
      "+-----------------+\n",
      "\n"
     ]
    }
   ],
   "source": [
    "# Calcular rating promedio de todos los libros (lo que se me pedía, vaya)\n",
    "\n",
    "booksDF.select(F.avg(F.col(\"Rating\"))).show()"
   ]
  },
  {
   "cell_type": "markdown",
   "id": "d094b30e-cdb6-4e05-927e-ed2fb1a6aff7",
   "metadata": {},
   "source": [
    "### 2.- Rating promedio de los libros por autor"
   ]
  },
  {
   "cell_type": "code",
   "execution_count": 5,
   "id": "bf56e26d-6da0-44e0-a7ea-85b1dce6b82b",
   "metadata": {},
   "outputs": [
    {
     "name": "stdout",
     "output_type": "stream",
     "text": [
      "+-------------------+-----------+\n",
      "|Authors            |avg(Rating)|\n",
      "+-------------------+-----------+\n",
      "|Tom          Taylor|5.0        |\n",
      "|Alexandra Fisher   |5.0        |\n",
      "|C.F. Gutch         |5.0        |\n",
      "|Sabrina Brancato   |5.0        |\n",
      "|Phil West          |5.0        |\n",
      "|Stephen G. Driggers|5.0        |\n",
      "|Bernd Vlay         |5.0        |\n",
      "|Jürgen Höller      |5.0        |\n",
      "|Avrohom Barash     |5.0        |\n",
      "|Barbara A. Ganim   |5.0        |\n",
      "+-------------------+-----------+\n",
      "only showing top 10 rows\n",
      "\n"
     ]
    }
   ],
   "source": [
    "# No me pide que lo ordene pero por qué no\n",
    "booksDF.groupBy(F.col(\"Authors\")).agg(F.mean(F.col(\"Rating\"))).orderBy(F.col(\"avg(Rating)\").desc()).show(10,False)"
   ]
  },
  {
   "cell_type": "markdown",
   "id": "f2327885-b7b1-4cbc-87cf-a306b4a42b1d",
   "metadata": {},
   "source": [
    "### 3.- Rating promedio de los libros por Publisher"
   ]
  },
  {
   "cell_type": "code",
   "execution_count": 6,
   "id": "ecb8fcf2-4ff1-4f43-9108-d68c1ab450b9",
   "metadata": {},
   "outputs": [
    {
     "name": "stdout",
     "output_type": "stream",
     "text": [
      "+-----------------------------------------------------+-----------+\n",
      "|Publisher                                            |avg(Rating)|\n",
      "+-----------------------------------------------------+-----------+\n",
      "|Rock Reef Publishing House                           |5.0        |\n",
      "|L.T.P. Publications                                  |5.0        |\n",
      "|Susan Chapman Melanson                               |5.0        |\n",
      "|Browngrotta Arts                                     |5.0        |\n",
      "|Basic Trauma Life Support International, Incorporated|5.0        |\n",
      "|National Assn of Office and Industrial Properties    |5.0        |\n",
      "|City of Manchester Art Galleries                     |5.0        |\n",
      "|Paris audiovisuel                                    |5.0        |\n",
      "|Lumen Christi Pr                                     |5.0        |\n",
      "|Indigo Reef Publishing Inc                           |5.0        |\n",
      "+-----------------------------------------------------+-----------+\n",
      "only showing top 10 rows\n",
      "\n"
     ]
    }
   ],
   "source": [
    "# No me pide que lo ordene pero por qué no\n",
    "booksDF.groupBy(F.col(\"Publisher\")).agg(F.mean(F.col(\"Rating\"))).orderBy(F.col(\"avg(Rating)\").desc()).show(10,False)"
   ]
  },
  {
   "cell_type": "markdown",
   "id": "7d203a06-e708-4e65-99f5-d44a7bb2d363",
   "metadata": {},
   "source": [
    "### 4.- Número promedio de páginas de todos los libros"
   ]
  },
  {
   "cell_type": "code",
   "execution_count": 7,
   "id": "a9fa04b9-033b-4c96-933f-6bcb85bb1ac2",
   "metadata": {},
   "outputs": [
    {
     "name": "stdout",
     "output_type": "stream",
     "text": [
      "+------------------+\n",
      "|  avg(pagesNumber)|\n",
      "+------------------+\n",
      "|276.55165080445977|\n",
      "+------------------+\n",
      "\n"
     ]
    }
   ],
   "source": [
    "booksDF.select(F.avg(F.col(\"pagesNumber\"))).show()"
   ]
  },
  {
   "cell_type": "markdown",
   "id": "1d5d61cb-9b25-433b-8c48-fe41543358c3",
   "metadata": {},
   "source": [
    "### 5.- Número promedio de páginas de todos los libros por autor"
   ]
  },
  {
   "cell_type": "code",
   "execution_count": 8,
   "id": "fd47fbec-6f21-4bc2-b4d4-28acb001c341",
   "metadata": {},
   "outputs": [
    {
     "name": "stdout",
     "output_type": "stream",
     "text": [
      "+------------------------------------+------------------+\n",
      "|Authors                             |avg(pagesNumber)  |\n",
      "+------------------------------------+------------------+\n",
      "|Sandy Redburn                       |1807321.6         |\n",
      "|A.B. Murphy                         |751507.3333333334 |\n",
      "|John B. Hare                        |500000.0          |\n",
      "|Logos Research Systems              |100000.0          |\n",
      "|Progressive Management              |35428.4375        |\n",
      "|Timothy McVeigh                     |33133.0           |\n",
      "|Robert H. Wozniak                   |22100.0           |\n",
      "|Veterans Affairs Department Research|16153.0           |\n",
      "|World Spaceflight News              |13942.333333333334|\n",
      "|Keith Crook                         |9999.0            |\n",
      "+------------------------------------+------------------+\n",
      "only showing top 10 rows\n",
      "\n"
     ]
    }
   ],
   "source": [
    "# No me pide que lo ordene pero por qué no\n",
    "booksDF.groupBy(F.col(\"Authors\")).agg(F.mean(F.col(\"pagesNumber\"))).orderBy(F.col(\"avg(pagesNumber)\").desc()).show(10,False)"
   ]
  },
  {
   "cell_type": "markdown",
   "id": "aaf1df49-e8c3-44f8-a0ce-6c34085dbaf3",
   "metadata": {},
   "source": [
    "### 6.- Número promedio de páginas de todos los libros por Publisher"
   ]
  },
  {
   "cell_type": "code",
   "execution_count": 9,
   "id": "fd9d5942-5eaf-4652-aa10-3d396462d223",
   "metadata": {},
   "outputs": [
    {
     "name": "stdout",
     "output_type": "stream",
     "text": [
      "+-----------------------------------------------------------+------------------+\n",
      "|Publisher                                                  |avg(pagesNumber)  |\n",
      "+-----------------------------------------------------------+------------------+\n",
      "|Crafty Secrets Publications                                |1807321.6         |\n",
      "|Sacred-texts.com                                           |500000.0          |\n",
      "|Department of Russian Language and Literature University of|322128.5714285714 |\n",
      "|Logos Research Systems                                     |100000.0          |\n",
      "|Encyclopedia Britannica, Incorporated                      |32642.0           |\n",
      "|Progressive Management                                     |19106.3625        |\n",
      "|Still Waters Revival Books                                 |10080.142857142857|\n",
      "|P. Shalom Publications, Incorporated                       |8539.0            |\n",
      "|Hendrickson Publishers, Inc. (Peabody, MA)                 |6448.0            |\n",
      "|IEEE/EMB                                                   |6000.0            |\n",
      "+-----------------------------------------------------------+------------------+\n",
      "only showing top 10 rows\n",
      "\n"
     ]
    }
   ],
   "source": [
    "# No me pide que lo ordene pero por qué no\n",
    "booksDF.groupBy(F.col(\"Publisher\")).agg(F.mean(F.col(\"pagesNumber\"))).orderBy(F.col(\"avg(pagesNumber)\").desc()).show(10,False)"
   ]
  },
  {
   "cell_type": "markdown",
   "id": "b26c27fe-6aea-44af-a049-ab0fc885661f",
   "metadata": {},
   "source": [
    "### 7.- Número promedio de libros publicados por autor"
   ]
  },
  {
   "cell_type": "code",
   "execution_count": 10,
   "id": "b3c7a6ca-9a50-4f78-ba64-3beb9249a6ed",
   "metadata": {},
   "outputs": [
    {
     "name": "stdout",
     "output_type": "stream",
     "text": [
      "+------------------+\n",
      "|   PromedioAutores|\n",
      "+------------------+\n",
      "|2.7400268625729134|\n",
      "+------------------+\n",
      "\n"
     ]
    }
   ],
   "source": [
    "booksDF.groupBy(F.col(\"Authors\")).agg(F.count(\"*\").alias(\"conteoLibros\")).agg(F.mean(F.col(\"conteoLibros\")).alias(\"PromedioAutores\")).show()"
   ]
  },
  {
   "cell_type": "markdown",
   "id": "2863dbe7-9ff3-42bd-b64f-f42814cacc4c",
   "metadata": {},
   "source": [
    "### 8.- Ordenar los libros de mayor a menor (Top 15) por número de ratings dados por usuarios (excluir aquellos valores sin rating)"
   ]
  },
  {
   "cell_type": "code",
   "execution_count": 11,
   "id": "fcc22b43-39a2-4bed-9ac7-07d917f8d375",
   "metadata": {},
   "outputs": [
    {
     "name": "stdout",
     "output_type": "stream",
     "text": [
      "+-------+---------------------------------------------------------+------+--------------+\n",
      "|Id     |Name                                                     |Rating|CountsOfReview|\n",
      "+-------+---------------------------------------------------------+------+--------------+\n",
      "|2767052|The Hunger Games (The Hunger Games, #1)                  |4.33  |154447        |\n",
      "|41865  |Twilight (Twilight, #1)                                  |3.59  |94850         |\n",
      "|19063  |The Book Thief                                           |4.37  |87685         |\n",
      "|4667024|The Help                                                 |4.46  |76040         |\n",
      "|3      |Harry Potter and the Sorcerer's Stone (Harry Potter, #1) |4.47  |75911         |\n",
      "|3636   |The Giver (The Giver, #1)                                |4.13  |57034         |\n",
      "|43641  |Water for Elephants                                      |4.09  |52918         |\n",
      "|2429135|The Girl with the Dragon Tattoo (Millennium, #1)         |4.14  |52225         |\n",
      "|136251 |Harry Potter and the Deathly Hallows (Harry Potter, #7)  |4.62  |52088         |\n",
      "|28187  |The Lightning Thief (Percy Jackson and the Olympians, #1)|4.25  |48630         |\n",
      "|99561  |Looking for Alaska                                       |4.04  |48042         |\n",
      "|256683 |City of Bones (The Mortal Instruments, #1)               |4.1   |47985         |\n",
      "|19501  |Eat, Pray, Love                                          |3.56  |47852         |\n",
      "|7445   |The Glass Castle                                         |4.27  |46551         |\n",
      "|5107   |The Catcher in the Rye                                   |3.8   |44046         |\n",
      "+-------+---------------------------------------------------------+------+--------------+\n",
      "only showing top 15 rows\n",
      "\n"
     ]
    }
   ],
   "source": [
    "booksDF.where(F.col(\"Rating\") != 0).orderBy(F.col(\"CountsOfReview\").desc()).select(F.col(\"Id\"),F.col(\"Name\"),F.col(\"Rating\"),F.col(\"CountsOfReview\"))\\\n",
    ".show(15,False)"
   ]
  },
  {
   "cell_type": "markdown",
   "id": "3f42c0ea-78ad-43a9-9860-674212e0617f",
   "metadata": {},
   "source": [
    "### 9.- Obtener Top 5 de ratings más frecuentes otorgados por usuarios"
   ]
  },
  {
   "cell_type": "code",
   "execution_count": 12,
   "id": "a61fda0c-0569-471c-b99b-aac9794b5aa6",
   "metadata": {},
   "outputs": [
    {
     "name": "stdout",
     "output_type": "stream",
     "text": [
      "+------+------+\n",
      "|Rating|Conteo|\n",
      "+------+------+\n",
      "|   0.0|451783|\n",
      "|   4.0|151979|\n",
      "|   3.0| 87288|\n",
      "|   5.0| 79827|\n",
      "|   3.5| 45222|\n",
      "+------+------+\n",
      "only showing top 5 rows\n",
      "\n"
     ]
    }
   ],
   "source": [
    "booksDF.groupBy(F.col(\"Rating\")).agg(F.count(\"*\").alias(\"Conteo\")).orderBy(F.col(\"Conteo\").desc()).show(5)"
   ]
  }
 ],
 "metadata": {
  "kernelspec": {
   "display_name": "Python 3 (ipykernel)",
   "language": "python",
   "name": "python3"
  },
  "language_info": {
   "codemirror_mode": {
    "name": "ipython",
    "version": 3
   },
   "file_extension": ".py",
   "mimetype": "text/x-python",
   "name": "python",
   "nbconvert_exporter": "python",
   "pygments_lexer": "ipython3",
   "version": "3.9.7"
  }
 },
 "nbformat": 4,
 "nbformat_minor": 5
}
