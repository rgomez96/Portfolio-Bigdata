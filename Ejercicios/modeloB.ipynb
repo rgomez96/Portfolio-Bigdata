{
 "cells": [
  {
   "cell_type": "markdown",
   "metadata": {
    "deletable": false,
    "editable": false,
    "nbgrader": {
     "cell_type": "markdown",
     "checksum": "a50f3baf1424297da3e241225a26274a",
     "grade": false,
     "grade_id": "cell-f8987996be9f1238",
     "locked": true,
     "schema_version": 3,
     "solution": false,
     "task": false
    }
   },
   "source": [
    "# Banco Mundial: préstamos a países en desarrollo\n",
    "\n",
    "Detalles sobre la organización en: https://www.worldbank.org/en/about/what-we-do\n",
    "\n",
    "### Disponible en Kaggle en:\n",
    "https://www.kaggle.com/theworldbank/world-banks-major-contracts\n",
    "\n",
    "El Banco Mundial es una organización internacional que se fundó en 1944 para reconstruir Europa después de la Segunda Guerra Mundial. Es uno de una variedad de organizaciones que ayudan a dar forma y equilibrar la economía mundial. Hoy, su función principal es combatir la pobreza ofreciendo asistencia para el desarrollo a países del tercer mundo de ingresos medios y bajos.\n",
    "Según el propio Banco Mundial, la organización tiene dos objetivos muy específicos para 2030:\n",
    "* Poner fin a la pobreza extrema disminuyendo el porcentaje de personas que viven con menos de `$`1.90 por día a no más del 3% \n",
    "* Promover la prosperidad compartida fomentando el crecimiento de los ingresos del 40% inferior para cada país."
   ]
  },
  {
   "cell_type": "markdown",
   "metadata": {
    "deletable": false,
    "editable": false,
    "nbgrader": {
     "cell_type": "markdown",
     "checksum": "9a6b4dc108ddf890c659e33701965428",
     "grade": false,
     "grade_id": "cell-f74d7bfd01811789",
     "locked": true,
     "schema_version": 3,
     "solution": false,
     "task": false
    }
   },
   "source": [
    "### Variables y significado"
   ]
  },
  {
   "cell_type": "markdown",
   "metadata": {
    "deletable": false,
    "editable": false,
    "nbgrader": {
     "cell_type": "markdown",
     "checksum": "3e57aba0f703be119458d6e86e235d34",
     "grade": false,
     "grade_id": "cell-9cfb34982bd4eb04",
     "locked": true,
     "schema_version": 3,
     "solution": false,
     "task": false
    }
   },
   "source": [
    "1. As of Date: 6-Sep-17, date when the file was generated. \n",
    "2. Fiscal Year: año fiscal en el que se ha llevado a cabo el préstamo.\n",
    "3. Region: área geográfica del país al que se le ha concedido el préstamo.\n",
    "4. Borrower Country: país al que se le ha concedido el préstamo.\n",
    "5. Borrower Country Code: código de dicho país.\n",
    "6. Project ID: código interno del préstamo.\n",
    "7. Project Name: nombre del proyecto que se llevará a cabo.\n",
    "8. Procurement Type: área para la cual se utilizará el préstamo.\n",
    "9. Procurement Category: ídem al anterior pero con una categorización más amplia.\n",
    "10. Procurement Method: tipo de adjudicación.\n",
    "11. Product Line: área interna a la que se le ha concedido el préstamo.\n",
    "12. Major Sector: economic sector económico al que se destinará.\n",
    "13. WB Contract Number: número interno de contrato.\n",
    "14. Contract Description: descripción.\n",
    "15. Contract Signing Date: fecha en la que el contrato se oficializó.\n",
    "16. Supplier: proveedor principal que trabaja en el proyecto.\n",
    "17. Supplier Country: país del proveedor principal.\n",
    "18. Supplier Country Code: código del país del proveedor.\n",
    "19. Total Contract Amount (USD): cantidad total en dólares.\n",
    "20. Borrower Contract Reference Number: número de referencia del contrato."
   ]
  },
  {
   "cell_type": "markdown",
   "metadata": {},
   "source": [
    "**Nombre completo del alumno:**  "
   ]
  },
  {
   "cell_type": "markdown",
   "metadata": {
    "deletable": false,
    "editable": false,
    "nbgrader": {
     "cell_type": "markdown",
     "checksum": "76dc5b331cac3113e9e77522358617bf",
     "grade": false,
     "grade_id": "cell-b4f9c37a2b92d2e6",
     "locked": true,
     "schema_version": 3,
     "solution": false,
     "task": false
    }
   },
   "source": [
    "**INSTRUCCIONES**: en cada celda debes responder a la pregunta formulada, asegurándote de que el resultado queda guardado en la(s) variable(s) que por defecto vienen inicializadas a `None`. No se necesita usar variables intermedias, pero puedes hacerlo siempre que el resultado final del cálculo quede guardado exactamente en la variable que venía inicializada a None (debes reemplazar None por la secuencia de transformaciones necesarias, pero nunca cambiar el nombre de esa variable). **No olvides borrar la línea *raise NotImplementedError()* de cada celda cuando hayas completado la solución de esa celda y quieras probarla**.\n",
    "\n",
    "Después de cada celda evaluable verás una celda con código. Ejecútala (no modifiques su código) y te dirá si tu solución es correcta o no. En caso de ser correcta, se ejecutará correctamente y no mostrará nada, pero si no lo es mostrará un error. Además de esas pruebas, se realizarán algunas más (ocultas) a la hora de puntuar el ejercicio, pero evaluar dicha celda es un indicador bastante fiable acerca de si realmente has implementado la solución correcta o no. Asegúrate de que, al menos, todas las celdas indican que el código es correcto antes de enviar el notebook terminado."
   ]
  },
  {
   "cell_type": "markdown",
   "metadata": {
    "deletable": false,
    "editable": false,
    "nbgrader": {
     "cell_type": "markdown",
     "checksum": "a15e6bdf254d95783822f54de8f97ed8",
     "grade": false,
     "grade_id": "cell-69ec0993eeaff3ac",
     "locked": true,
     "schema_version": 3,
     "solution": false,
     "task": false
    }
   },
   "source": [
    "### Sobre el dataset anterior (Major_Contract_Awards.csv) se pide:"
   ]
  },
  {
   "cell_type": "markdown",
   "metadata": {},
   "source": [
    "**(1 punto)** Ejercicio 1\n",
    "\n",
    "* Leerlo tratando de que Spark infiera el tipo de dato de cada columna, y **cachearlo**. \n",
    "* Puesto que existen columnas que contienen una coma enmedio del valor, en esos casos los valores vienen entre comillas dobles. Spark ya contempla esta posibilidad y puede leerlas adecuadamente **si al leer le indicamos las siguientes opciones adicionales** además de las que ya sueles usar: `.option(\"quote\", \"\\\"\").option(\"escape\", \"\\\"\")`.\n",
    "* Asegúrate de que las **filas que no tienen el formato correcto sean descartadas**, indicando también la opción `mode` con el valor `DROPMALFORMED` como vimos en clase."
   ]
  },
  {
   "cell_type": "code",
   "execution_count": 1,
   "metadata": {},
   "outputs": [],
   "source": [
    "from pyspark.sql import SparkSession\n",
    "from pyspark import SparkContext\n",
    "from pyspark.sql.functions import *\n",
    "from pyspark.sql.types import *\n",
    "import pyspark.sql.functions as F\n",
    "from pyspark.sql.types import IntegerType\n",
    "\n",
    "\n",
    "spark = SparkSession\\\n",
    "    .builder\\\n",
    "    .appName(\"ModeloB\")\\\n",
    "    .getOrCreate()"
   ]
  },
  {
   "cell_type": "code",
   "execution_count": 2,
   "metadata": {
    "deletable": false,
    "nbgrader": {
     "cell_type": "code",
     "checksum": "4a5689cec8976cd801b0d58557d09856",
     "grade": false,
     "grade_id": "read_csv",
     "locked": false,
     "schema_version": 3,
     "solution": true,
     "task": false
    }
   },
   "outputs": [],
   "source": [
    "contractsDF = spark.read\\\n",
    "                 .option(\"header\", \"true\")\\\n",
    "                 .option(\"inferSchema\", \"true\")\\\n",
    "                 .option(\"quote\", \"\\\"\")\\\n",
    "                 .option(\"escape\", \"\\\"\")\\\n",
    "                 .option(\"mode\", \"DROPMALFORMED\")\\\n",
    "                 .csv(\"ModeloB Major_Contract_Awards.csv\").cache()"
   ]
  },
  {
   "cell_type": "code",
   "execution_count": 3,
   "metadata": {},
   "outputs": [
    {
     "data": {
      "text/plain": [
       "148515"
      ]
     },
     "execution_count": 3,
     "metadata": {},
     "output_type": "execute_result"
    }
   ],
   "source": [
    "contractsDF.count()"
   ]
  },
  {
   "cell_type": "code",
   "execution_count": 4,
   "metadata": {
    "deletable": false,
    "editable": false,
    "nbgrader": {
     "cell_type": "code",
     "checksum": "07b97f6ed05070241779df7d74a36535",
     "grade": true,
     "grade_id": "read_csv_test",
     "locked": true,
     "points": 1,
     "schema_version": 3,
     "solution": false,
     "task": false
    }
   },
   "outputs": [],
   "source": [
    "from pyspark.sql.types import DoubleType\n",
    "assert(contractsDF.count() == 148515)"
   ]
  },
  {
   "cell_type": "markdown",
   "metadata": {
    "deletable": false,
    "editable": false,
    "nbgrader": {
     "cell_type": "markdown",
     "checksum": "b1847529747ff95f5b2f47e206383615",
     "grade": false,
     "grade_id": "cell-b90f5b934eda250e",
     "locked": true,
     "schema_version": 3,
     "solution": false,
     "task": false
    }
   },
   "source": [
    "**(1 punto)** Ejercicio 2\n",
    "\n",
    "* La columna **Total Contract Amount (USD)** es en realidad numérica, pero todas las cantidades incluyen el signo `$` por lo que Spark la reconoce como string. Para corregir este comportamiento, vamos a eliminar el `$` de todas las filas utilizando la función `F.regexp_replace(\"Total Contract Amount (USD)\", \"\\$\", \"\")` donde `\"\\$\"` es el string que queremos reemplazar (hay que escaparlo poniendo `\\` delante porque sino el `$` se interpreta como un carácter especial), y siendo el nuevo string el string vacío, `\"\"`. Esta función pertenece al paquete `pyspark.sql.functions`, por lo que ya funciona de manera distribuida, y devuelve como resultado un objeto columna transformado. \n",
    "\n",
    "* Aplica esta función dentro de la función `withColumn` para **reemplazar** la columna `Total Contract Amount (USD)` ya existente por la columna devuelta por `regexp_replace`. La manera de utilizarla es totalmente análoga a la utilización de, por ejemplo, la función `F.when` dentro de `withColumn`. \n",
    "* Aprovecha también para hacer un casting del objeto columna devuelto por regexp_replace, que es una columna de strings, a una columna de enteros: `F.regexp_replace(...).cast(...)`. Almacena el DF resultante en la variable `contractsDFenteros`, **cachéala** y utilízala a partir de este momento para trabajar en las celdas posteriores, salvo que la celda indique lo contrario."
   ]
  },
  {
   "cell_type": "code",
   "execution_count": 5,
   "metadata": {
    "deletable": false,
    "nbgrader": {
     "cell_type": "code",
     "checksum": "977137be60e9665ab927a79808d4543e",
     "grade": false,
     "grade_id": "convert_dollars",
     "locked": false,
     "schema_version": 3,
     "solution": true,
     "task": false
    }
   },
   "outputs": [
    {
     "data": {
      "text/plain": [
       "DataFrame[As of Date: string, Fiscal Year: string, Region: string, Borrower Country: string, Borrower Country Code: string, Project ID: string, Project Name: string, Procurement Type: string, Procurement Category: string, Procurement Method: string, Product line: string, Major Sector: string, WB Contract Number: int, Contract Description: string, Contract Signing Date: string, Supplier: string, Supplier Country: string, Supplier Country Code: string, Total Contract Amount (USD): int, Borrower Contract Reference Number: string]"
      ]
     },
     "execution_count": 5,
     "metadata": {},
     "output_type": "execute_result"
    }
   ],
   "source": [
    "# No olvides los imports que necesites...\n",
    "# LÍNEAS EVALUABLES, NO RENOMBRAR LAS VARIABLES\n",
    "contractsDFenteros = contractsDF.withColumn(\"Total Contract Amount (USD)\", F.regexp_replace(\"Total Contract Amount (USD)\", \"\\$\", \"\").cast(IntegerType()))\n",
    "\n",
    "contractsDFenteros.cache()"
   ]
  },
  {
   "cell_type": "code",
   "execution_count": 6,
   "metadata": {
    "deletable": false,
    "editable": false,
    "nbgrader": {
     "cell_type": "code",
     "checksum": "9cc3edd221bc783bd17056844aa009ec",
     "grade": true,
     "grade_id": "convert_dollars_tests",
     "locked": true,
     "points": 1,
     "schema_version": 3,
     "solution": false,
     "task": false
    }
   },
   "outputs": [],
   "source": [
    "from pyspark.sql.types import IntegerType\n",
    "assert(len(contractsDFenteros.columns) == len(contractsDF.columns))\n",
    "assert(contractsDFenteros.count() == contractsDF.count())\n",
    "assert(contractsDFenteros.schema[\"Total Contract Amount (USD)\"].dataType == IntegerType())"
   ]
  },
  {
   "cell_type": "markdown",
   "metadata": {
    "deletable": false,
    "editable": false,
    "nbgrader": {
     "cell_type": "markdown",
     "checksum": "2b79d2fd327fc5f60efc2db6180ce646",
     "grade": false,
     "grade_id": "cell-fc88821f19453a51",
     "locked": true,
     "schema_version": 3,
     "solution": false,
     "task": false
    }
   },
   "source": [
    "**(1 punto)** Ejercicio 3\n",
    "\n",
    "* Partiendo de `contractsDFenteros`, crear un nuevo DF donde la columna \"Region\" sea reemplazada por otra con mismo nombre, de tipo string en la que todos los valores de la columna original (LATIN AMERICA AND CARIBBEAN, SOUTH ASIA, OTHER ... etc) estén traducidos al español. Puedes elegir la traducción que más te guste, pero debe mantenerse el mismo número de categorías que ya había, que eran siete.\n",
    "* El evaluador oculto comprobará que sigue habiendo el mismo número de ejemplos en cada categoría con el nuevo nombre, y que las categorías efectivamente se han traducido (ninguna se debe llamar igual que antes). Puedes cambiar AFRICA por África."
   ]
  },
  {
   "cell_type": "code",
   "execution_count": 7,
   "metadata": {},
   "outputs": [
    {
     "name": "stdout",
     "output_type": "stream",
     "text": [
      "+----------------------------+\n",
      "|Region                      |\n",
      "+----------------------------+\n",
      "|LATIN AMERICA AND CARIBBEAN |\n",
      "|SOUTH ASIA                  |\n",
      "|OTHER                       |\n",
      "|AFRICA                      |\n",
      "|MIDDLE EAST AND NORTH AFRICA|\n",
      "|EAST ASIA AND PACIFIC       |\n",
      "|EUROPE AND CENTRAL ASIA     |\n",
      "+----------------------------+\n",
      "\n"
     ]
    }
   ],
   "source": [
    "contractsDFenteros.select((F.col(\"Region\"))).distinct().show(20,False)"
   ]
  },
  {
   "cell_type": "code",
   "execution_count": 8,
   "metadata": {
    "deletable": false,
    "nbgrader": {
     "cell_type": "code",
     "checksum": "c9f4f02d9aedb81e093c55323eff9e3f",
     "grade": false,
     "grade_id": "renombrar_region",
     "locked": false,
     "schema_version": 3,
     "solution": true,
     "task": false
    }
   },
   "outputs": [
    {
     "name": "stderr",
     "output_type": "stream",
     "text": [
      "C:\\ProgramData\\Anaconda3\\lib\\site-packages\\pyspark\\sql\\dataframe.py:2213: UserWarning: to_replace is a dict and value is not None. value will be ignored.\n",
      "  warnings.warn(\"to_replace is a dict and value is not None. value will be ignored.\")\n"
     ]
    },
    {
     "name": "stdout",
     "output_type": "stream",
     "text": [
      "+--------------------+\n",
      "|              Region|\n",
      "+--------------------+\n",
      "|              África|\n",
      "|              África|\n",
      "|              África|\n",
      "|              África|\n",
      "|ASIA ORIENTAL Y P...|\n",
      "|ASIA ORIENTAL Y P...|\n",
      "|ASIA ORIENTAL Y P...|\n",
      "|ASIA ORIENTAL Y P...|\n",
      "|             SURASIA|\n",
      "|             SURASIA|\n",
      "+--------------------+\n",
      "only showing top 10 rows\n",
      "\n"
     ]
    }
   ],
   "source": [
    "# Voy a crear un diccionario que utilice la región en inglés como clave y la región en español como valor\n",
    "\n",
    "paisesDict = {\n",
    "  \"LATIN AMERICA AND CARIBBEAN\": \"LATINOAMERICA Y CARIBE\",\n",
    "  \"SOUTH ASIA\": \"SURASIA\",\n",
    "  \"OTHER\": \"OTRO\",\n",
    "  \"AFRICA\": \"África\",\n",
    "  \"MIDDLE EAST AND NORTH AFRICA\": \"ORIENTE MEDIO Y NORAFRICA\",\n",
    "  \"EAST ASIA AND PACIFIC\": \"ASIA ORIENTAL Y PACIFICO\",\n",
    "  \"EUROPE AND CENTRAL ASIA\": \"EUROPA Y ASIA CENTRAL\"\n",
    "}\n",
    "\n",
    "contractsTranslatedDF = contractsDFenteros.na.replace(paisesDict,\"Region\")\n",
    "\n",
    "# contractsTranslatedDF = contractsDFenteros.na.replace(translation,\"Region\")\n",
    "\n",
    "contractsTranslatedDF.select(\"Region\").show(10)"
   ]
  },
  {
   "cell_type": "code",
   "execution_count": 9,
   "metadata": {
    "deletable": false,
    "editable": false,
    "nbgrader": {
     "cell_type": "code",
     "checksum": "c131f27e349e2368bb5e76ec548af6c9",
     "grade": true,
     "grade_id": "renombrar_region_test",
     "locked": true,
     "points": 1,
     "schema_version": 3,
     "solution": false,
     "task": false
    }
   },
   "outputs": [],
   "source": [
    "assert(contractsTranslatedDF.select(\"Region\").distinct().count() == 7)\n",
    "g1 = contractsDF.groupBy(\"Region\").count().withColumnRenamed(\"Region\", \"R1\")\n",
    "g2 = contractsTranslatedDF.groupBy(\"Region\").agg(F.count(\"*\").alias(\"c2\"))\n",
    "joinedDF = g1.join(g2, F.col(\"count\") == g2.c2)\n",
    "assert(joinedDF.count() == 7)\n",
    "assert(joinedDF.where(F.col(\"count\") == F.col(\"c2\")).count() == 7)\n",
    "assert(joinedDF.where(F.col(\"R1\") == F.col(\"Region\")).count() == 0)"
   ]
  },
  {
   "cell_type": "markdown",
   "metadata": {
    "deletable": false,
    "editable": false,
    "nbgrader": {
     "cell_type": "markdown",
     "checksum": "6d07e1344e1ccd02a8648e3756181c6f",
     "grade": false,
     "grade_id": "cell-a71a6b17b1e0d613",
     "locked": true,
     "schema_version": 3,
     "solution": false,
     "task": false
    }
   },
   "source": [
    "**(1 punto)** Ejercicio 4\n",
    "\n",
    "* Partiendo de `contractsTranslatedDF`, crear un nuevo DataFrame de **una sola fila** que contenga, **por este orden de columnas**, el **número** de categorías distintas existentes en cada una de las columnas `Procurement Type`, `Procurement Category` y `Procurement Method`. Pista: crear cada una de estas tres columnas al vuelo con `select`(). Renombrar cada columna de conteo para que se llame igual que la propia columna que estamos contando."
   ]
  },
  {
   "cell_type": "code",
   "execution_count": 10,
   "metadata": {
    "deletable": false,
    "nbgrader": {
     "cell_type": "code",
     "checksum": "760ca31245afc350de47c7cd98aa6950",
     "grade": false,
     "grade_id": "numero_categorias",
     "locked": false,
     "schema_version": 3,
     "solution": true,
     "task": false
    }
   },
   "outputs": [],
   "source": [
    "# LÍNEA EVALUABLE, NO RENOMBRAR VARIABLES\n",
    "numeroCategoriasDF = contractsTranslatedDF.select(countDistinct(F.col(\"Procurement Type\")).alias(\"Procurement Type\")\\\n",
    "                                                 ,countDistinct(F.col(\"Procurement Category\")).alias(\"Procurement Category\")\\\n",
    "                                                 ,countDistinct(F.col(\"Procurement Method\")).alias(\"Procurement Method\"))"
   ]
  },
  {
   "cell_type": "code",
   "execution_count": 11,
   "metadata": {
    "deletable": false,
    "editable": false,
    "nbgrader": {
     "cell_type": "code",
     "checksum": "19e310dcb44cacbd5cb8f1e25eb687e5",
     "grade": true,
     "grade_id": "numero_categorias_test",
     "locked": true,
     "points": 1,
     "schema_version": 3,
     "solution": false,
     "task": false
    }
   },
   "outputs": [],
   "source": [
    "assert(len(numeroCategoriasDF.columns) == 3)\n",
    "assert(numeroCategoriasDF.count() == 1)\n",
    "categorias = numeroCategoriasDF.collect()[0]\n",
    "assert(categorias[\"Procurement Type\"] == 60)\n",
    "assert(categorias[\"Procurement Category\"] == 5)\n",
    "assert(categorias[\"Procurement Method\"] == 18)"
   ]
  },
  {
   "cell_type": "markdown",
   "metadata": {
    "deletable": false,
    "editable": false,
    "nbgrader": {
     "cell_type": "markdown",
     "checksum": "16cbef2aaa4c24857fa6d20d30300438",
     "grade": false,
     "grade_id": "cell-c5ec05706eccd480",
     "locked": true,
     "schema_version": 3,
     "solution": false,
     "task": false
    }
   },
   "source": [
    "**(3 puntos)** Ejercicio 5\n",
    "\n",
    "* Partiendo de `contractsDFenteros` definido anteriormente, crear un **pipeline** formado por dos etapas: un indexador de la columna categórica `Procurement Method` y un discretizador (bucketizer) de la columna numérica que habíamos convertido a entero al principio, `Total Contract Amount (USD)`, de manera que sea convertida en una columna de números reales empezando en 0 y cuya parte decimal siempre sea 0.\n",
    "* Para el indexador, si una vez entrenado le llegasen etiquetas que no ha visto antes, deberá eliminar esas filas (recordar la opción adecuada que vimos en clase). La columna de salida debe llamarse `ProcurementIndexed`.\n",
    "* Para el discretizador, utilizar como puntos de corte los siguientes: (-Inf, 0, 100000, 200000, 300000, 400000, Inf). La columna de salida debe llamarse `TotalDiscretized`.\n",
    "* Una vez creados ambos, componerlos para crear un Pipeline, y aplicarlo a `contractsDFenteros` para entrenar y a continuación también para predecir (es decir, transformarlo). El DF resultante de la transformación debe almacenarse en la variable `contractsTransformedDF`"
   ]
  },
  {
   "cell_type": "code",
   "execution_count": 12,
   "metadata": {
    "deletable": false,
    "nbgrader": {
     "cell_type": "code",
     "checksum": "0eb6a2f2b62f513e46c8795890b3b799",
     "grade": false,
     "grade_id": "pipeline",
     "locked": false,
     "schema_version": 3,
     "solution": true,
     "task": false
    }
   },
   "outputs": [
    {
     "data": {
      "text/html": [
       "<div>\n",
       "<style scoped>\n",
       "    .dataframe tbody tr th:only-of-type {\n",
       "        vertical-align: middle;\n",
       "    }\n",
       "\n",
       "    .dataframe tbody tr th {\n",
       "        vertical-align: top;\n",
       "    }\n",
       "\n",
       "    .dataframe thead th {\n",
       "        text-align: right;\n",
       "    }\n",
       "</style>\n",
       "<table border=\"1\" class=\"dataframe\">\n",
       "  <thead>\n",
       "    <tr style=\"text-align: right;\">\n",
       "      <th></th>\n",
       "      <th>As of Date</th>\n",
       "      <th>Fiscal Year</th>\n",
       "      <th>Region</th>\n",
       "      <th>Borrower Country</th>\n",
       "      <th>Borrower Country Code</th>\n",
       "      <th>Project ID</th>\n",
       "      <th>Project Name</th>\n",
       "      <th>Procurement Type</th>\n",
       "      <th>Procurement Category</th>\n",
       "      <th>Procurement Method</th>\n",
       "      <th>...</th>\n",
       "      <th>WB Contract Number</th>\n",
       "      <th>Contract Description</th>\n",
       "      <th>Contract Signing Date</th>\n",
       "      <th>Supplier</th>\n",
       "      <th>Supplier Country</th>\n",
       "      <th>Supplier Country Code</th>\n",
       "      <th>Total Contract Amount (USD)</th>\n",
       "      <th>Borrower Contract Reference Number</th>\n",
       "      <th>ProcurementIndexed</th>\n",
       "      <th>TotalDiscretized</th>\n",
       "    </tr>\n",
       "  </thead>\n",
       "  <tbody>\n",
       "    <tr>\n",
       "      <th>0</th>\n",
       "      <td>09/06/2017 12:00:00 AM</td>\n",
       "      <td>2004</td>\n",
       "      <td>AFRICA</td>\n",
       "      <td>Mali</td>\n",
       "      <td>ML</td>\n",
       "      <td>P041723</td>\n",
       "      <td>Rural Infrastr (FY00) - (PNIR)</td>\n",
       "      <td>Feasibility Studies</td>\n",
       "      <td>CONSULTANT SERVICES</td>\n",
       "      <td>Single Source Selection</td>\n",
       "      <td>...</td>\n",
       "      <td>1236192</td>\n",
       "      <td>CONV. DE MAITRISE D'OUVRAGE DELEGUEE (STUDIES ...</td>\n",
       "      <td>07/15/2003 12:00:00 AM</td>\n",
       "      <td>AGETIER-MALI</td>\n",
       "      <td>Mali</td>\n",
       "      <td>ML</td>\n",
       "      <td>176578.0</td>\n",
       "      <td>CONVENTION 41/2003/IP</td>\n",
       "      <td>3.0</td>\n",
       "      <td>2.0</td>\n",
       "    </tr>\n",
       "    <tr>\n",
       "      <th>1</th>\n",
       "      <td>09/06/2017 12:00:00 AM</td>\n",
       "      <td>2004</td>\n",
       "      <td>AFRICA</td>\n",
       "      <td>Mali</td>\n",
       "      <td>ML</td>\n",
       "      <td>P041723</td>\n",
       "      <td>Rural Infrastr (FY00) - (PNIR)</td>\n",
       "      <td>Feasibility Studies</td>\n",
       "      <td>CONSULTANT SERVICES</td>\n",
       "      <td>Single Source Selection</td>\n",
       "      <td>...</td>\n",
       "      <td>1236192</td>\n",
       "      <td>CONV. DE MAITRISE D'OUVRAGE DELEGUEE (STUDIES ...</td>\n",
       "      <td>07/15/2003 12:00:00 AM</td>\n",
       "      <td>AGETIER-MALI</td>\n",
       "      <td>Mali</td>\n",
       "      <td>ML</td>\n",
       "      <td>38386.0</td>\n",
       "      <td>CONVENTION 41/2003/IP</td>\n",
       "      <td>3.0</td>\n",
       "      <td>1.0</td>\n",
       "    </tr>\n",
       "    <tr>\n",
       "      <th>2</th>\n",
       "      <td>09/06/2017 12:00:00 AM</td>\n",
       "      <td>2004</td>\n",
       "      <td>AFRICA</td>\n",
       "      <td>Mali</td>\n",
       "      <td>ML</td>\n",
       "      <td>P041723</td>\n",
       "      <td>Rural Infrastr (FY00) - (PNIR)</td>\n",
       "      <td>Feasibility Studies</td>\n",
       "      <td>CONSULTANT SERVICES</td>\n",
       "      <td>Single Source Selection</td>\n",
       "      <td>...</td>\n",
       "      <td>1236192</td>\n",
       "      <td>CONV. DE MAITRISE D'OUVRAGE DELEGUEE (STUDIES ...</td>\n",
       "      <td>07/15/2003 12:00:00 AM</td>\n",
       "      <td>AGETIER-MALI</td>\n",
       "      <td>Mali</td>\n",
       "      <td>ML</td>\n",
       "      <td>76773.0</td>\n",
       "      <td>CONVENTION 41/2003/IP</td>\n",
       "      <td>3.0</td>\n",
       "      <td>1.0</td>\n",
       "    </tr>\n",
       "    <tr>\n",
       "      <th>3</th>\n",
       "      <td>09/06/2017 12:00:00 AM</td>\n",
       "      <td>2004</td>\n",
       "      <td>AFRICA</td>\n",
       "      <td>Mali</td>\n",
       "      <td>ML</td>\n",
       "      <td>P041723</td>\n",
       "      <td>Rural Infrastr (FY00) - (PNIR)</td>\n",
       "      <td>Feasibility Studies</td>\n",
       "      <td>CONSULTANT SERVICES</td>\n",
       "      <td>Single Source Selection</td>\n",
       "      <td>...</td>\n",
       "      <td>1236192</td>\n",
       "      <td>CONV. DE MAITRISE D'OUVRAGE DELEGUEE (STUDIES ...</td>\n",
       "      <td>07/15/2003 12:00:00 AM</td>\n",
       "      <td>AGETIER-MALI</td>\n",
       "      <td>Mali</td>\n",
       "      <td>ML</td>\n",
       "      <td>92127.0</td>\n",
       "      <td>CONVENTION 41/2003/IP</td>\n",
       "      <td>3.0</td>\n",
       "      <td>1.0</td>\n",
       "    </tr>\n",
       "    <tr>\n",
       "      <th>4</th>\n",
       "      <td>09/06/2017 12:00:00 AM</td>\n",
       "      <td>2004</td>\n",
       "      <td>EAST ASIA AND PACIFIC</td>\n",
       "      <td>Indonesia</td>\n",
       "      <td>ID</td>\n",
       "      <td>P040528</td>\n",
       "      <td>ID-W. JAVA ENVMT MGMT</td>\n",
       "      <td>Policy and Strategy</td>\n",
       "      <td>CONSULTANT SERVICES</td>\n",
       "      <td>Quality And Cost-Based Selection</td>\n",
       "      <td>...</td>\n",
       "      <td>1233245</td>\n",
       "      <td>KAB. BANDUNG LOCAL ENVIRONMENTAL STRATEGY (KAB...</td>\n",
       "      <td>08/19/2003 12:00:00 AM</td>\n",
       "      <td>ARCADIS EUROCONSULT WITH PT. TRANS INTRA ASIA</td>\n",
       "      <td>Indonesia</td>\n",
       "      <td>ID</td>\n",
       "      <td>10615.0</td>\n",
       "      <td>602.1/01/CTR/PWJEMP-DLH/VIII/200</td>\n",
       "      <td>4.0</td>\n",
       "      <td>1.0</td>\n",
       "    </tr>\n",
       "    <tr>\n",
       "      <th>...</th>\n",
       "      <td>...</td>\n",
       "      <td>...</td>\n",
       "      <td>...</td>\n",
       "      <td>...</td>\n",
       "      <td>...</td>\n",
       "      <td>...</td>\n",
       "      <td>...</td>\n",
       "      <td>...</td>\n",
       "      <td>...</td>\n",
       "      <td>...</td>\n",
       "      <td>...</td>\n",
       "      <td>...</td>\n",
       "      <td>...</td>\n",
       "      <td>...</td>\n",
       "      <td>...</td>\n",
       "      <td>...</td>\n",
       "      <td>...</td>\n",
       "      <td>...</td>\n",
       "      <td>...</td>\n",
       "      <td>...</td>\n",
       "      <td>...</td>\n",
       "    </tr>\n",
       "    <tr>\n",
       "      <th>148510</th>\n",
       "      <td>09/06/2017 12:00:00 AM</td>\n",
       "      <td>2018</td>\n",
       "      <td>AFRICA</td>\n",
       "      <td>Liberia</td>\n",
       "      <td>LR</td>\n",
       "      <td>P159912</td>\n",
       "      <td>West Africa Fisheries - Liberia</td>\n",
       "      <td>Not assigned</td>\n",
       "      <td>Not assigned</td>\n",
       "      <td>CDS</td>\n",
       "      <td>...</td>\n",
       "      <td>1549418</td>\n",
       "      <td>External Audit Consultancy</td>\n",
       "      <td>08/10/2017 12:00:00 AM</td>\n",
       "      <td>MGI- MONBO &amp; COMPANY</td>\n",
       "      <td>Liberia</td>\n",
       "      <td>LR</td>\n",
       "      <td>7155.0</td>\n",
       "      <td>WARFP-REF-32</td>\n",
       "      <td>14.0</td>\n",
       "      <td>1.0</td>\n",
       "    </tr>\n",
       "    <tr>\n",
       "      <th>148511</th>\n",
       "      <td>09/06/2017 12:00:00 AM</td>\n",
       "      <td>2018</td>\n",
       "      <td>AFRICA</td>\n",
       "      <td>Angola</td>\n",
       "      <td>AO</td>\n",
       "      <td>P151224</td>\n",
       "      <td>AO:Water Sector Institutional Dev.2</td>\n",
       "      <td>Not assigned</td>\n",
       "      <td>Not assigned</td>\n",
       "      <td>Quality And Cost-Based Selection</td>\n",
       "      <td>...</td>\n",
       "      <td>1549432</td>\n",
       "      <td>DESIGN CHECKING AND WORKS SUPERVISION OF NETWO...</td>\n",
       "      <td>08/07/2017 12:00:00 AM</td>\n",
       "      <td>ENGIDRO ESTUDOS DE ENGENHARIA LDA</td>\n",
       "      <td>Portugal</td>\n",
       "      <td>PT</td>\n",
       "      <td>2328726.0</td>\n",
       "      <td>2CS3/DNA/16</td>\n",
       "      <td>4.0</td>\n",
       "      <td>5.0</td>\n",
       "    </tr>\n",
       "    <tr>\n",
       "      <th>148512</th>\n",
       "      <td>09/06/2017 12:00:00 AM</td>\n",
       "      <td>2018</td>\n",
       "      <td>AFRICA</td>\n",
       "      <td>Angola</td>\n",
       "      <td>AO</td>\n",
       "      <td>P151224</td>\n",
       "      <td>AO:Water Sector Institutional Dev.2</td>\n",
       "      <td>Not assigned</td>\n",
       "      <td>Not assigned</td>\n",
       "      <td>Quality And Cost-Based Selection</td>\n",
       "      <td>...</td>\n",
       "      <td>1549440</td>\n",
       "      <td>DESIGN CHECKING AND WORKS SUPERVISION OF NETWO...</td>\n",
       "      <td>08/01/2017 12:00:00 AM</td>\n",
       "      <td>EPTISA SERVICIOS DE INGENIERIA, S.L.</td>\n",
       "      <td>Spain</td>\n",
       "      <td>ES</td>\n",
       "      <td>2194207.0</td>\n",
       "      <td>5CS3/DNA/16</td>\n",
       "      <td>4.0</td>\n",
       "      <td>5.0</td>\n",
       "    </tr>\n",
       "    <tr>\n",
       "      <th>148513</th>\n",
       "      <td>09/06/2017 12:00:00 AM</td>\n",
       "      <td>2018</td>\n",
       "      <td>EUROPE AND CENTRAL ASIA</td>\n",
       "      <td>Tajikistan</td>\n",
       "      <td>TJ</td>\n",
       "      <td>P148997</td>\n",
       "      <td>Implementation e-Procurement</td>\n",
       "      <td>ICT/Telecommunications Services</td>\n",
       "      <td>CONSULTANT SERVICES</td>\n",
       "      <td>Selection Based On Consultant's Qualific</td>\n",
       "      <td>...</td>\n",
       "      <td>1549438</td>\n",
       "      <td>Enhancement of the Agency for Public Procureme...</td>\n",
       "      <td>06/12/2017 12:00:00 AM</td>\n",
       "      <td>E-COMMERCE CENTER</td>\n",
       "      <td>Kazakhstan</td>\n",
       "      <td>KZ</td>\n",
       "      <td>349853.0</td>\n",
       "      <td>TJ/IDF/CQS1</td>\n",
       "      <td>5.0</td>\n",
       "      <td>4.0</td>\n",
       "    </tr>\n",
       "    <tr>\n",
       "      <th>148514</th>\n",
       "      <td>09/06/2017 12:00:00 AM</td>\n",
       "      <td>2018</td>\n",
       "      <td>AFRICA</td>\n",
       "      <td>Zimbabwe</td>\n",
       "      <td>ZW</td>\n",
       "      <td>P154861</td>\n",
       "      <td>Zimbabwe National Water Project</td>\n",
       "      <td>Not assigned</td>\n",
       "      <td>Not assigned</td>\n",
       "      <td>RFQ</td>\n",
       "      <td>...</td>\n",
       "      <td>1549457</td>\n",
       "      <td>Supply and Delivery of Software for Phase 1 works</td>\n",
       "      <td>09/04/2017 12:00:00 AM</td>\n",
       "      <td>COMPULINK SYSTEMS PVT LTD</td>\n",
       "      <td>Zimbabwe</td>\n",
       "      <td>ZW</td>\n",
       "      <td>12742.0</td>\n",
       "      <td>ZW-ZINWA-10787-GO-RFQ</td>\n",
       "      <td>15.0</td>\n",
       "      <td>1.0</td>\n",
       "    </tr>\n",
       "  </tbody>\n",
       "</table>\n",
       "<p>148515 rows × 22 columns</p>\n",
       "</div>"
      ],
      "text/plain": [
       "                    As of Date Fiscal Year                   Region  \\\n",
       "0       09/06/2017 12:00:00 AM        2004                   AFRICA   \n",
       "1       09/06/2017 12:00:00 AM        2004                   AFRICA   \n",
       "2       09/06/2017 12:00:00 AM        2004                   AFRICA   \n",
       "3       09/06/2017 12:00:00 AM        2004                   AFRICA   \n",
       "4       09/06/2017 12:00:00 AM        2004    EAST ASIA AND PACIFIC   \n",
       "...                        ...         ...                      ...   \n",
       "148510  09/06/2017 12:00:00 AM        2018                   AFRICA   \n",
       "148511  09/06/2017 12:00:00 AM        2018                   AFRICA   \n",
       "148512  09/06/2017 12:00:00 AM        2018                   AFRICA   \n",
       "148513  09/06/2017 12:00:00 AM        2018  EUROPE AND CENTRAL ASIA   \n",
       "148514  09/06/2017 12:00:00 AM        2018                   AFRICA   \n",
       "\n",
       "       Borrower Country Borrower Country Code Project ID  \\\n",
       "0                  Mali                    ML    P041723   \n",
       "1                  Mali                    ML    P041723   \n",
       "2                  Mali                    ML    P041723   \n",
       "3                  Mali                    ML    P041723   \n",
       "4             Indonesia                    ID    P040528   \n",
       "...                 ...                   ...        ...   \n",
       "148510          Liberia                    LR    P159912   \n",
       "148511           Angola                    AO    P151224   \n",
       "148512           Angola                    AO    P151224   \n",
       "148513       Tajikistan                    TJ    P148997   \n",
       "148514         Zimbabwe                    ZW    P154861   \n",
       "\n",
       "                               Project Name                 Procurement Type  \\\n",
       "0            Rural Infrastr (FY00) - (PNIR)              Feasibility Studies   \n",
       "1            Rural Infrastr (FY00) - (PNIR)              Feasibility Studies   \n",
       "2            Rural Infrastr (FY00) - (PNIR)              Feasibility Studies   \n",
       "3            Rural Infrastr (FY00) - (PNIR)              Feasibility Studies   \n",
       "4                     ID-W. JAVA ENVMT MGMT              Policy and Strategy   \n",
       "...                                     ...                              ...   \n",
       "148510      West Africa Fisheries - Liberia                     Not assigned   \n",
       "148511  AO:Water Sector Institutional Dev.2                     Not assigned   \n",
       "148512  AO:Water Sector Institutional Dev.2                     Not assigned   \n",
       "148513         Implementation e-Procurement  ICT/Telecommunications Services   \n",
       "148514      Zimbabwe National Water Project                     Not assigned   \n",
       "\n",
       "       Procurement Category                        Procurement Method  ...  \\\n",
       "0       CONSULTANT SERVICES                   Single Source Selection  ...   \n",
       "1       CONSULTANT SERVICES                   Single Source Selection  ...   \n",
       "2       CONSULTANT SERVICES                   Single Source Selection  ...   \n",
       "3       CONSULTANT SERVICES                   Single Source Selection  ...   \n",
       "4       CONSULTANT SERVICES          Quality And Cost-Based Selection  ...   \n",
       "...                     ...                                       ...  ...   \n",
       "148510         Not assigned                                       CDS  ...   \n",
       "148511         Not assigned          Quality And Cost-Based Selection  ...   \n",
       "148512         Not assigned          Quality And Cost-Based Selection  ...   \n",
       "148513  CONSULTANT SERVICES  Selection Based On Consultant's Qualific  ...   \n",
       "148514         Not assigned                                       RFQ  ...   \n",
       "\n",
       "       WB Contract Number                               Contract Description  \\\n",
       "0                 1236192  CONV. DE MAITRISE D'OUVRAGE DELEGUEE (STUDIES ...   \n",
       "1                 1236192  CONV. DE MAITRISE D'OUVRAGE DELEGUEE (STUDIES ...   \n",
       "2                 1236192  CONV. DE MAITRISE D'OUVRAGE DELEGUEE (STUDIES ...   \n",
       "3                 1236192  CONV. DE MAITRISE D'OUVRAGE DELEGUEE (STUDIES ...   \n",
       "4                 1233245  KAB. BANDUNG LOCAL ENVIRONMENTAL STRATEGY (KAB...   \n",
       "...                   ...                                                ...   \n",
       "148510            1549418                         External Audit Consultancy   \n",
       "148511            1549432  DESIGN CHECKING AND WORKS SUPERVISION OF NETWO...   \n",
       "148512            1549440  DESIGN CHECKING AND WORKS SUPERVISION OF NETWO...   \n",
       "148513            1549438  Enhancement of the Agency for Public Procureme...   \n",
       "148514            1549457  Supply and Delivery of Software for Phase 1 works   \n",
       "\n",
       "         Contract Signing Date                                       Supplier  \\\n",
       "0       07/15/2003 12:00:00 AM                                   AGETIER-MALI   \n",
       "1       07/15/2003 12:00:00 AM                                   AGETIER-MALI   \n",
       "2       07/15/2003 12:00:00 AM                                   AGETIER-MALI   \n",
       "3       07/15/2003 12:00:00 AM                                   AGETIER-MALI   \n",
       "4       08/19/2003 12:00:00 AM  ARCADIS EUROCONSULT WITH PT. TRANS INTRA ASIA   \n",
       "...                        ...                                            ...   \n",
       "148510  08/10/2017 12:00:00 AM                           MGI- MONBO & COMPANY   \n",
       "148511  08/07/2017 12:00:00 AM              ENGIDRO ESTUDOS DE ENGENHARIA LDA   \n",
       "148512  08/01/2017 12:00:00 AM           EPTISA SERVICIOS DE INGENIERIA, S.L.   \n",
       "148513  06/12/2017 12:00:00 AM                              E-COMMERCE CENTER   \n",
       "148514  09/04/2017 12:00:00 AM                      COMPULINK SYSTEMS PVT LTD   \n",
       "\n",
       "       Supplier Country Supplier Country Code Total Contract Amount (USD)  \\\n",
       "0                  Mali                    ML                    176578.0   \n",
       "1                  Mali                    ML                     38386.0   \n",
       "2                  Mali                    ML                     76773.0   \n",
       "3                  Mali                    ML                     92127.0   \n",
       "4             Indonesia                    ID                     10615.0   \n",
       "...                 ...                   ...                         ...   \n",
       "148510          Liberia                    LR                      7155.0   \n",
       "148511         Portugal                    PT                   2328726.0   \n",
       "148512            Spain                    ES                   2194207.0   \n",
       "148513       Kazakhstan                    KZ                    349853.0   \n",
       "148514         Zimbabwe                    ZW                     12742.0   \n",
       "\n",
       "       Borrower Contract Reference Number  ProcurementIndexed TotalDiscretized  \n",
       "0                   CONVENTION 41/2003/IP                 3.0              2.0  \n",
       "1                   CONVENTION 41/2003/IP                 3.0              1.0  \n",
       "2                   CONVENTION 41/2003/IP                 3.0              1.0  \n",
       "3                   CONVENTION 41/2003/IP                 3.0              1.0  \n",
       "4        602.1/01/CTR/PWJEMP-DLH/VIII/200                 4.0              1.0  \n",
       "...                                   ...                 ...              ...  \n",
       "148510                       WARFP-REF-32                14.0              1.0  \n",
       "148511                        2CS3/DNA/16                 4.0              5.0  \n",
       "148512                        5CS3/DNA/16                 4.0              5.0  \n",
       "148513                        TJ/IDF/CQS1                 5.0              4.0  \n",
       "148514              ZW-ZINWA-10787-GO-RFQ                15.0              1.0  \n",
       "\n",
       "[148515 rows x 22 columns]"
      ]
     },
     "execution_count": 12,
     "metadata": {},
     "output_type": "execute_result"
    }
   ],
   "source": [
    "# LÍNEA EVALUABLE, NO RENOMBRAR VARIABLES\n",
    "# imports necesarios..........\n",
    "\n",
    "from pyspark.ml.feature import Bucketizer\n",
    "from pyspark.ml.feature import StringIndexer\n",
    "from pyspark.ml import Pipeline\n",
    "\n",
    "bucketizer = Bucketizer()\n",
    "bucketizer.setSplits([-float(\"inf\"), 0, 100000,200000,300000,400000, float(\"inf\")])\n",
    "bucketizer.setInputCol(\"Total Contract Amount (USD)\")\n",
    "bucketizer.setOutputCol(\"TotalDiscretized\")\n",
    "\n",
    "indexer = StringIndexer(inputCol=\"Procurement Method\", outputCol=\"ProcurementIndexed\",handleInvalid=\"skip\")\n",
    "pipeline = Pipeline(stages=[indexer,bucketizer])\n",
    "pipelineModel = pipeline.fit(contractsDFenteros)\n",
    "contractsTransformedDF = pipelineModel.transform(contractsDFenteros)\n",
    "\n",
    "pandasContracts = contractsTransformedDF.toPandas()\n",
    "\n",
    "pandasContracts"
   ]
  },
  {
   "cell_type": "code",
   "execution_count": 13,
   "metadata": {
    "deletable": false,
    "editable": false,
    "nbgrader": {
     "cell_type": "code",
     "checksum": "c4436e144c2f5d1bd1bd657fe2cf1af6",
     "grade": true,
     "grade_id": "pipeline_test",
     "locked": true,
     "points": 3,
     "schema_version": 3,
     "solution": false,
     "task": false
    }
   },
   "outputs": [],
   "source": [
    "from pyspark.sql import functions as F\n",
    "assert(\"TotalDiscretized\" in contractsTransformedDF.columns)\n",
    "assert(\"ProcurementIndexed\" in contractsTransformedDF.columns)\n",
    "assert(len(contractsTransformedDF.columns) == len(contractsDFenteros.columns) + 2)\n",
    "assert(bucketizer in pipeline.getStages())\n",
    "assert(indexer in pipeline.getStages())\n",
    "from pyspark.sql.types import DoubleType\n",
    "assert(contractsTransformedDF.schema[\"TotalDiscretized\"].dataType == DoubleType())\n",
    "assert(contractsTransformedDF.schema[\"ProcurementIndexed\"].dataType == DoubleType())\n",
    "assert(bucketizer.getSplits() == [-float(\"Inf\"), 0, 100000, 200000, 300000, 400000, float(\"Inf\")])\n",
    "assert(bucketizer.getInputCol() == \"Total Contract Amount (USD)\")\n",
    "assert(bucketizer.getOutputCol() == \"TotalDiscretized\")\n",
    "assert(indexer.getInputCol() == \"Procurement Method\")\n",
    "assert(indexer.getOutputCol() == \"ProcurementIndexed\")\n",
    "assert(indexer.getHandleInvalid() == \"skip\")"
   ]
  },
  {
   "cell_type": "markdown",
   "metadata": {
    "deletable": false,
    "editable": false,
    "nbgrader": {
     "cell_type": "markdown",
     "checksum": "d9e849f75c135b49fbdae08ee5966518",
     "grade": false,
     "grade_id": "cell-9ebe35c4b4325269",
     "locked": true,
     "schema_version": 3,
     "solution": false,
     "task": false
    }
   },
   "source": [
    "**(3 puntos)** Ejercicio 6\n",
    "\n",
    "* Añadir una nueva columna al DF `contractsDFenteros` llamada `Total Pais` (sin tilde) que contenga en cada fila el **importe total prestado al país (Borrower Country Code) de esa fila (es decir, el total del país al que corresponde cada proyecto)**. El nuevo DF debe tener el mismo número de filas y una columna más. **NO DEBE UTILIZARSE JOIN sino funciones de ventana** con una ventana por país, que debe almacenarse en la variable `paisWindow`. El resultado sería equivalente a una agrupación por países y agregación de suma de importe, y después juntar cada total del país a cada celda (como si fuese un join por el país), pero **todo esto debe hacerse exclusivamente con ventanas y sin usar JOIN**.\n",
    "* Una vez hecho esto, añade una segunda columna nueva llamada `Porcentaje Pais` (sin tilde) que contenga el **porcentaje** que ha supuesto cada proyecto sobre el total destinado a ese país (dicho total ha sido calculado en el punto anterior). El porcentaje no debe ir en tanto por 1 sino en tanto por 100.\n",
    "* Añadir una tercera columna llamada `Media Pais` (sin tilde) que contenga en cada fila **el importe medio destinado a los proyectos del país al que corresponde el proyecto**. Debe utilizarse la misma ventana definida en el primer apartado, cambiando solo la función de agregación aplicada.\n",
    "* Añadir una cuarta columna llamada `Diff Porcentaje` que sea la diferencia, medida en porcentaje, entre el importe destinado al proyecto y el importe medio de un proyecto en ese país. Debe calcularse operando con las columnas existentes, restando a la columna `Total Contract Amount (USD)` el importe de `Media Pais`, dividiendo entre esta última y multiplicando por 100, **sin utilizar** en ningún caso la función `when`. Una diferencia positiva indicará que ese proyecto ha recibido más fondos que la media de los proyectos de ese país, y una diferencia negativa indicará lo contrario.\n",
    "* El DF resultante debe almacenarse en una variable `porcentajesDF` y debe tener el mismo número de filas que `contractsDFenteros`."
   ]
  },
  {
   "cell_type": "code",
   "execution_count": 40,
   "metadata": {
    "deletable": false,
    "nbgrader": {
     "cell_type": "code",
     "checksum": "6b66c6fbed599ccb686931d3b809cbe1",
     "grade": false,
     "grade_id": "window",
     "locked": false,
     "schema_version": 3,
     "solution": true,
     "task": false
    }
   },
   "outputs": [
    {
     "name": "stdout",
     "output_type": "stream",
     "text": [
      "+----------------+----------+-------------------+----------------+-----------------+-------------------+\n",
      "|Borrower Country|Total Pais|    Porcentaje Pais|Numero Proyectos|       Media Pais|    Diff Porcentaje|\n",
      "+----------------+----------+-------------------+----------------+-----------------+-------------------+\n",
      "|      South Asia|  49951856|0.09131192242386349|              83|601829.5903614458| -92.42111043881933|\n",
      "|      South Asia|  49951856|0.09131192242386349|              83|601829.5903614458| -92.42111043881933|\n",
      "|      South Asia|  49951856| 1.0141565110213322|              83|601829.5903614458|-15.825009585229427|\n",
      "|      South Asia|  49951856|0.27518497010401377|              83|601829.5903614458| -77.15964748136686|\n",
      "|      South Asia|  49951856| 0.4794016062185958|              83|601829.5903614458|-60.209666683856554|\n",
      "+----------------+----------+-------------------+----------------+-----------------+-------------------+\n",
      "only showing top 5 rows\n",
      "\n"
     ]
    }
   ],
   "source": [
    "# LÍNEA EVALUABLE, NO RENOMBRAR VARIABLES\n",
    "# imports necesarios..........\n",
    "from pyspark.sql.window import Window\n",
    "\n",
    "# Crea la ventana para obtener la deuda total de cada país\n",
    "paisWindow = Window.partitionBy(\"Borrower Country\")\n",
    "\n",
    "# Leí mal el ejercicio y pensé que tenía que calcular la suma total de todo el dinero en lugar de la suma total para cada país\n",
    "# Como para mí esto ha sido una odisea y más formativo que calcular el total para cada país\n",
    "# Lo voy a dejar aquí para futura referencia\n",
    "# Conclusión: 'suma' y la columna \"Porcentaje Pais Total\" no se piden.\n",
    "# Utiliza COLLECT() para obtener el valor total de la suma de todas las deudas para poder calcular el porcentaje!!\n",
    "# He tenido que hacerlo así porque sum() sólo devuelve una fila así que da fallos muy raros!!!\n",
    "suma = contractsDFenteros.select(sum(\"Total Contract Amount (USD)\")).collect()[0][0]\n",
    "# print(suma)\n",
    "\n",
    "# Calcula la deuda total de cada país + El porcentaje de deuda sobre la total\n",
    "porcentajesDF = contractsDFenteros\\\n",
    "                                .withColumn(\"Total Pais\",F.sum(\"Total Contract Amount (USD)\").over(paisWindow))\\\n",
    "                                .withColumn(\"Numero Proyectos\",F.count(\"Borrower Country\").over(paisWindow))\\\n",
    "                                .withColumn(\"Porcentaje Pais\",F.col(\"Total Contract Amount (USD)\")/(F.sum(\"Total Contract Amount (USD)\").over(paisWindow))*100)\\\n",
    "                                .withColumn(\"Porcentaje Pais Total\",F.col(\"Total Pais\")/suma*100)\\\n",
    "                                .withColumn(\"Media Pais\", F.col(\"Total Pais\")/F.col(\"Numero Proyectos\"))\\\n",
    "                                .withColumn(\"Diff Porcentaje\",(F.col(\"Total Contract Amount (USD)\")-F.col(\"Media Pais\"))/F.col(\"Media Pais\")*100)\n",
    "\n",
    "# No te asustes por los porcentajes, pues sólo enseña los primeros 20 países!\n",
    "porcentajesDF.select(F.col(\"Borrower Country\"),F.col(\"Total Pais\"),F.col(\"Porcentaje Pais\"),F.col(\"Numero Proyectos\"),F.col(\"Media Pais\"),F.col(\"Diff Porcentaje\")).show(5)\n",
    "\n",
    "porcentajesDF=porcentajesDF.drop(\"Numero Proyectos\")\n",
    "\n",
    "# TODO: Calcular la columna 'Media Pais' y 'Diff Porcentaje'!"
   ]
  },
  {
   "cell_type": "code",
   "execution_count": 41,
   "metadata": {
    "deletable": false,
    "editable": false,
    "nbgrader": {
     "cell_type": "code",
     "checksum": "6f5bb48e55affd76772a7952980ebce9",
     "grade": true,
     "grade_id": "window_tests",
     "locked": true,
     "points": 3,
     "schema_version": 3,
     "solution": false,
     "task": false
    }
   },
   "outputs": [],
   "source": [
    "assert(\"Total Pais\" in porcentajesDF.columns)\n",
    "assert(\"Porcentaje Pais\" in porcentajesDF.columns)\n",
    "r = porcentajesDF.where(\"`Project ID` = 'P069947'\").head()\n",
    "assert(r[\"Total Pais\"] == 70485209)\n",
    "assert(r[\"Porcentaje Pais\"] - 25.985824912571374 < 0.001)\n",
    "assert(r[\"Media Pais\"] - 597332.279661017 < 0.001)\n",
    "assert(r[\"Diff Porcentaje\"] - 2966.3273396834217 < 0.001)"
   ]
  }
 ],
 "metadata": {
  "kernelspec": {
   "display_name": "Python 3 (ipykernel)",
   "language": "python",
   "name": "python3"
  },
  "language_info": {
   "codemirror_mode": {
    "name": "ipython",
    "version": 3
   },
   "file_extension": ".py",
   "mimetype": "text/x-python",
   "name": "python",
   "nbconvert_exporter": "python",
   "pygments_lexer": "ipython3",
   "version": "3.9.7"
  }
 },
 "nbformat": 4,
 "nbformat_minor": 4
}
