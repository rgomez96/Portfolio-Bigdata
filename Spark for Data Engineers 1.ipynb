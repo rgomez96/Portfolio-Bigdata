{
 "cells": [
  {
   "cell_type": "markdown",
   "id": "f560a186-23c4-4152-b8b4-dab9373d3966",
   "metadata": {},
   "source": [
    "# **Reto I**"
   ]
  },
  {
   "cell_type": "markdown",
   "id": "2e83c93b-57ee-44e3-8bea-163bd4cd3ffd",
   "metadata": {},
   "source": [
    "### 1. Datasets\n",
    "\n",
    "Los datos de origen constan de dos archivos csv con la misma estructura y tipo de columnas.\n",
    "\n",
    "* trade_details: dataset original con datos reales de operaciones financieras.\n",
    "* trade_details_snapshot: copia de seguridad por posibles perdidas de datos.\n",
    "\n",
    "### 2. Columnas y significado:\n",
    "\n",
    "* mfamily: indica la familia de operaciones a la que pertenece.\n",
    "* mgroup: indica el grupo de operaciones dentro de la familia.\n",
    "* mtype: indica el tipo de operación dentro del grupo.\n",
    "* origin_trade_number: indica el número de la operación de trading (la misma operación puede tener varios números de trading).\n",
    "* origin_contract_number: indica el número de contrato de la operación (igual para todas las operaciones que pertenecen al mismo contrato).\n",
    "* maturity: fecha de finalización del contrato de cada operación.\n",
    "\n",
    "### 3. Descripción del problema:\n",
    "\n",
    "En estos datasets se encuentran varias operaciones financieras de distinto tipo, que diferenciaremos mediante los distintos valores de las columnas mfamily, mgroup y mtype.\n",
    "\n",
    "Existe un cierto tipo de operaciones especiales, llamadas FXSwaps. Estas pueden ser diferenciadas por medio de los siguientes valores:\n",
    "\n",
    "**mfamily = CURR** \\\n",
    "**mgroup = FXD** \\\n",
    "**mtype = SWLEG**\n",
    "\n",
    "Podemos ver en nuestro dataset que estas operaciones aparecen duplicadas, es decir, con el mismo **origin_contract_number** aunque distinto **origin_trade_number**. De estas operaciones duplicadas en origen, queremos obtener solo una de ellas.\n",
    "\n",
    "La forma para decidir cuál de las operaciones nos interesa obtener es mediante la columna *maturity*. De ambas operaciones de trading (distinto origin_trade_number) para un mismo contrato (origin_contract_number), queremos obtener solo la *long leg*, es decir, la que tiene una mayor fecha de vencimiento (fecha más actual de la columna maturity).\n",
    "\n",
    "Existe un cierto problema en nuestro dataset trade_details que tendremos que solucionar. Podemos ver que para algunas operaciones el campo maturity vendrá como *null*, es decir, sin informar. En estos casos, deberemos buscar esa operacion en el dataset trade_details_snapshot y el respectivo campo maturity para poder saber cuál de las dos operaciones es la *long leg* y filtrar la *short leg* \n",
    "\n",
    "**NOTA: Si se quiere conocer más el significado de estas operaciones financieras: https://es.wikipedia.org/wiki/Swap_(finanzas)**\n",
    "\n",
    "### 4. Reto:\n",
    "\n",
    "* Obtener un dataframe final donde tengamos todas las operaciones originales excepto los short leg de los contratos tipo FXSwap.\n",
    "* Aunque usemos el valor de la columna maturity del dataset trade_details_snapshot en los casos que venga en la trade_details a *null*, en el dataframe final deberá venir con el valor original de trade_details.\n",
    "* Hacerlo de la manera más eficiente posible a nivel computacional."
   ]
  },
  {
   "cell_type": "markdown",
   "id": "78b53f96-7b68-4b33-a20b-84fd8dbd0e1a",
   "metadata": {},
   "source": [
    "### Inicialización de SparkSession:"
   ]
  },
  {
   "cell_type": "code",
   "execution_count": 1,
   "id": "a5da8fad-c1ee-42ad-88ba-1c6587e6de5f",
   "metadata": {},
   "outputs": [
    {
     "data": {
      "text/plain": [
       "Intitializing Scala interpreter ..."
      ]
     },
     "metadata": {},
     "output_type": "display_data"
    },
    {
     "data": {
      "text/plain": [
       "Spark Web UI available at http://L2111027.bosonit.local:4040\n",
       "SparkContext available as 'sc' (version = 3.1.2, master = local[*], app id = local-1641378471947)\n",
       "SparkSession available as 'spark'\n"
      ]
     },
     "metadata": {},
     "output_type": "display_data"
    },
    {
     "data": {
      "text/plain": [
       "import org.apache.spark.sql.SparkSession\r\n",
       "spark: org.apache.spark.sql.SparkSession = org.apache.spark.sql.SparkSession@38dc2c36\r\n"
      ]
     },
     "execution_count": 1,
     "metadata": {},
     "output_type": "execute_result"
    }
   ],
   "source": [
    "import org.apache.spark.sql.SparkSession\n",
    "\n",
    "val spark = SparkSession.builder()\n",
    "                        .appName(\"Reto 1\")\n",
    "                        .master(\"local\")\n",
    "                        .getOrCreate()"
   ]
  },
  {
   "cell_type": "markdown",
   "id": "0c747da1-d0a9-4499-9196-dd0ea980cb5b",
   "metadata": {},
   "source": [
    "### Carga de CSV"
   ]
  },
  {
   "cell_type": "code",
   "execution_count": 2,
   "id": "18334cd9-be3c-44e8-a9c3-417030a844e8",
   "metadata": {},
   "outputs": [
    {
     "data": {
      "text/plain": [
       "trade_details: org.apache.spark.sql.DataFrame = [mfamily: string, mgroup: string ... 4 more fields]\r\n",
       "trade_details_snapshot: org.apache.spark.sql.DataFrame = [mfamily: string, mgroup: string ... 4 more fields]\r\n"
      ]
     },
     "execution_count": 2,
     "metadata": {},
     "output_type": "execute_result"
    }
   ],
   "source": [
    "val trade_details = spark.read.format(\"csv\")\n",
    "                              .option(\"header\", \"true\")\n",
    "                              .option(\"delimiter\", \";\")\n",
    "                              .load(\"./reto1/trade_details.csv\")\n",
    "\n",
    "val trade_details_snapshot = spark.read.format(\"csv\")\n",
    "                                       .option(\"header\", \"true\")\n",
    "                                       .option(\"delimiter\", \";\")\n",
    "                                       .load(\"./reto1/trade_details_snapshot.csv\")"
   ]
  },
  {
   "cell_type": "code",
   "execution_count": 3,
   "id": "93dea296-3273-474c-8d3d-01258c14df04",
   "metadata": {},
   "outputs": [
    {
     "name": "stdout",
     "output_type": "stream",
     "text": [
      "+-------+------+-----+-------------------+----------------------+----------+\n",
      "|mfamily|mgroup|mtype|origin_trade_number|origin_contract_number|maturity  |\n",
      "+-------+------+-----+-------------------+----------------------+----------+\n",
      "|IRD    |BOND  |null |316391872          |678876251             |2021-09-22|\n",
      "|CURR   |FXD   |FXD  |32734782           |54853428              |2021-09-22|\n",
      "|IRD    |LN_BR |null |1111               |2222                  |2022-10-06|\n",
      "|IRD    |IRS   |null |2222222            |2222222               |2024-10-15|\n",
      "|SCF    |SCF   |SCF  |3815982            |3672136               |NULL      |\n",
      "+-------+------+-----+-------------------+----------------------+----------+\n",
      "only showing top 5 rows\n",
      "\n",
      "root\n",
      " |-- mfamily: string (nullable = true)\n",
      " |-- mgroup: string (nullable = true)\n",
      " |-- mtype: string (nullable = true)\n",
      " |-- origin_trade_number: string (nullable = true)\n",
      " |-- origin_contract_number: string (nullable = true)\n",
      " |-- maturity: string (nullable = true)\n",
      "\n",
      "+--------+\n",
      "|count(1)|\n",
      "+--------+\n",
      "|      31|\n",
      "+--------+\n",
      "\n"
     ]
    }
   ],
   "source": [
    "// Observando un poco el dataset\n",
    "\n",
    "trade_details.show(5,false)\n",
    "\n",
    "trade_details.printSchema()\n",
    "\n",
    "trade_details.select(count(\"*\")).show()"
   ]
  },
  {
   "cell_type": "code",
   "execution_count": 4,
   "id": "f39e1571",
   "metadata": {},
   "outputs": [
    {
     "name": "stdout",
     "output_type": "stream",
     "text": [
      "+-------+------+-----+-------------------+----------------------+----------+------------+\n",
      "|mfamily|mgroup|mtype|origin_trade_number|origin_contract_number|  maturity|maturityReal|\n",
      "+-------+------+-----+-------------------+----------------------+----------+------------+\n",
      "|    IRD|  BOND| null|          316391872|             678876251|2021-09-22|  2021-09-22|\n",
      "|   CURR|   FXD|  FXD|           32734782|              54853428|2021-09-22|  2021-09-22|\n",
      "|    IRD| LN_BR| null|               1111|                  2222|2022-10-06|  2022-10-06|\n",
      "|    IRD|   IRS| null|            2222222|               2222222|2024-10-15|  2024-10-15|\n",
      "|    SCF|   SCF|  SCF|            3815982|               3672136|      NULL|  2021-05-04|\n",
      "|    IRD| LN_BR| null|           14596583|              13774383|2020-12-29|  2020-12-29|\n",
      "|    IRD|   IRS| null|           18343978|              17356077|2024-10-15|  2024-10-15|\n",
      "|    IRD| LN_BR| null|           19203839|              18176215|2022-10-06|  2022-10-06|\n",
      "|    IRD|    CF| null|           20513130|              19433281|2021-07-06|  2021-07-06|\n",
      "|    IRD|    CF| null|           20533916|              19453781|2023-07-06|  2023-07-06|\n",
      "|    IRD|   IRS| null|           21183317|              20077630|2040-07-13|  2040-07-13|\n",
      "|    IRD|   IRS| null|           33333333|              33333333|2024-10-15|  2024-10-15|\n",
      "|    IRD|   IRS| null|          111222333|             111222333|2024-10-15|  2024-10-15|\n",
      "|    IRD|   IRS| null|          222333111|             222333111|2020-12-30|  2020-12-30|\n",
      "|    IRD|   IRS| null|          333111222|             333111222|2020-12-12|  2020-12-12|\n",
      "|    IRD|   IRS| null|          444111222|             444111222|      NULL|  2021-05-04|\n",
      "|    IRD|   IRS| null|          555111222|             555111222|      NULL|  2021-05-04|\n",
      "|    IRD|   IRS| null|          564367838|             564367838|2024-10-15|  2024-10-15|\n",
      "|    IRD|   IRS| null|          556111214|             556111214|      NULL|  2021-05-04|\n",
      "|    EQD| EQUIT|  FWD|           10000001|              10000001|2019-07-02|  2019-07-02|\n",
      "+-------+------+-----+-------------------+----------------------+----------+------------+\n",
      "only showing top 20 rows\n",
      "\n"
     ]
    },
    {
     "data": {
      "text/plain": [
       "trade_join: org.apache.spark.sql.DataFrame = [mfamily: string, mgroup: string ... 10 more fields]\r\n",
       "trade_join_subset: org.apache.spark.sql.DataFrame = [mfamily: string, mgroup: string ... 5 more fields]\r\n",
       "trade_join_maturity: org.apache.spark.sql.DataFrame = [mfamily: string, mgroup: string ... 5 more fields]\r\n"
      ]
     },
     "execution_count": 4,
     "metadata": {},
     "output_type": "execute_result"
    }
   ],
   "source": [
    "// PRIMERO RELLENA TODOS LOS HUEVOS VACÍOS DE MATURITY (en una nueva tabla porque necesitamos conservar los valores null)\n",
    "\n",
    "// Une el dataset trade_details y trade_details snapshot\n",
    "\n",
    "val trade_join = trade_details_snapshot.as(\"b\").join(trade_details.as(\"a\"),$\"a.origin_trade_number\"===\n",
    "$\"b.origin_trade_number\",\"inner\")\n",
    "\n",
    "// De el join que acabamos de hacer saca sólo las columnas que nos interesan\n",
    "val trade_join_subset = trade_join.select($\"a.*\",$\"b.maturity\")\n",
    "\n",
    "// Crea una columna nueva que almacene el valor maturity con el que realmente vamos a trabajar\n",
    "val trade_join_maturity = trade_join_subset.withColumn(\"maturityReal\", when($\"a.maturity\" === \"NULL\",$\"b.maturity\").otherwise($\"a.maturity\")).drop($\"b.maturity\")\n",
    "\n",
    "trade_join_maturity.show()\n"
   ]
  },
  {
   "cell_type": "code",
   "execution_count": 5,
   "id": "0027cdf5",
   "metadata": {},
   "outputs": [
    {
     "name": "stdout",
     "output_type": "stream",
     "text": [
      "+-------+------+-----+-------------------+----------------------+----------+------------+-----------------+\n",
      "|mfamily|mgroup|mtype|origin_trade_number|origin_contract_number|  maturity|maturityReal|max(maturityReal)|\n",
      "+-------+------+-----+-------------------+----------------------+----------+------------+-----------------+\n",
      "|   CURR|   FXD|SWLEG|           20665177|              19622128|2020-04-29|  2020-04-29|       2020-12-30|\n",
      "|   CURR|   FXD|SWLEG|           20665178|              19622128|2020-12-30|  2020-12-30|       2020-12-30|\n",
      "+-------+------+-----+-------------------+----------------------+----------+------------+-----------------+\n",
      "\n",
      "+-------+------+-----+-------------------+----------------------+----------+------------+-----------------+\n",
      "|mfamily|mgroup|mtype|origin_trade_number|origin_contract_number|  maturity|maturityReal|max(maturityReal)|\n",
      "+-------+------+-----+-------------------+----------------------+----------+------------+-----------------+\n",
      "|    IRD|  BOND| null|          316391872|             678876251|2021-09-22|  2021-09-22|       2021-09-22|\n",
      "|   CURR|   FXD|  FXD|           32734782|              54853428|2021-09-22|  2021-09-22|       2021-09-22|\n",
      "|    IRD| LN_BR| null|               1111|                  2222|2022-10-06|  2022-10-06|       2022-10-06|\n",
      "|    IRD|   IRS| null|            2222222|               2222222|2024-10-15|  2024-10-15|       2024-10-15|\n",
      "|    SCF|   SCF|  SCF|            3815982|               3672136|      NULL|  2021-05-04|       2021-05-04|\n",
      "|    IRD| LN_BR| null|           14596583|              13774383|2020-12-29|  2020-12-29|       2020-12-29|\n",
      "|    IRD|   IRS| null|           18343978|              17356077|2024-10-15|  2024-10-15|       2024-10-15|\n",
      "|    IRD| LN_BR| null|           19203839|              18176215|2022-10-06|  2022-10-06|       2022-10-06|\n",
      "|    IRD|    CF| null|           20513130|              19433281|2021-07-06|  2021-07-06|       2021-07-06|\n",
      "|    IRD|    CF| null|           20533916|              19453781|2023-07-06|  2023-07-06|       2023-07-06|\n",
      "|    IRD|   IRS| null|           21183317|              20077630|2040-07-13|  2040-07-13|       2040-07-13|\n",
      "|    IRD|   IRS| null|           33333333|              33333333|2024-10-15|  2024-10-15|       2024-10-15|\n",
      "|    IRD|   IRS| null|          111222333|             111222333|2024-10-15|  2024-10-15|       2024-10-15|\n",
      "|    IRD|   IRS| null|          222333111|             222333111|2020-12-30|  2020-12-30|       2020-12-30|\n",
      "|    IRD|   IRS| null|          333111222|             333111222|2020-12-12|  2020-12-12|       2020-12-12|\n",
      "|    IRD|   IRS| null|          444111222|             444111222|      NULL|  2021-05-04|       2021-05-04|\n",
      "|    IRD|   IRS| null|          555111222|             555111222|      NULL|  2021-05-04|       2021-05-04|\n",
      "|    IRD|   IRS| null|          564367838|             564367838|2024-10-15|  2024-10-15|       2024-10-15|\n",
      "|    IRD|   IRS| null|          556111214|             556111214|      NULL|  2021-05-04|       2021-05-04|\n",
      "|    EQD| EQUIT|  FWD|           10000001|              10000001|2019-07-02|  2019-07-02|       2019-07-02|\n",
      "+-------+------+-----+-------------------+----------------------+----------+------------+-----------------+\n",
      "only showing top 20 rows\n",
      "\n"
     ]
    },
    {
     "data": {
      "text/plain": [
       "trade_max_maturity: org.apache.spark.sql.DataFrame = [origin_contract_number: string, max(maturityReal): string]\r\n",
       "trade_join_maturity_max: org.apache.spark.sql.DataFrame = [mfamily: string, mgroup: string ... 6 more fields]\r\n"
      ]
     },
     "execution_count": 5,
     "metadata": {},
     "output_type": "execute_result"
    }
   ],
   "source": [
    "// Calculo el maximo de maturity para cada origin contract number\n",
    "val trade_max_maturity = trade_join_maturity.groupBy($\"origin_contract_number\").agg(max($\"maturityReal\"))\n",
    "\n",
    "val trade_join_maturity_max = trade_join_maturity.as(\"a\").join(trade_max_maturity.as(\"b\"),$\"a.origin_contract_number\"===$\"b.origin_contract_number\",\"inner\")\n",
    ".drop($\"b.origin_contract_number\")\n",
    "\n",
    "//trade_join_maturity_max.groupBy($\"origin_contract_number\").agg(count($\"origin_contract_number\")).show(5)\n",
    "\n",
    "// asegurandome que se coge el mayor cuando hay duplicados con un ejemplo concreto\n",
    "trade_join_maturity_max.where($\"origin_contract_number\"=== \"19622128\").show()\n",
    "\n",
    "trade_join_maturity_max.show()\n",
    "\n",
    "// Aquí asegurandome que no se ha perdido ningún dato hasta ahora\n",
    "//trade_join_maturity_max.select(count(\"*\")).show()"
   ]
  },
  {
   "cell_type": "code",
   "execution_count": 6,
   "id": "27a07d82",
   "metadata": {},
   "outputs": [
    {
     "name": "stdout",
     "output_type": "stream",
     "text": [
      "+--------+\n",
      "|count(1)|\n",
      "+--------+\n",
      "|      26|\n",
      "+--------+\n",
      "\n",
      "+-------+------+-----+-------------------+----------------------+----------+\n",
      "|mfamily|mgroup|mtype|origin_trade_number|origin_contract_number|  maturity|\n",
      "+-------+------+-----+-------------------+----------------------+----------+\n",
      "|    IRD|  BOND| null|          316391872|             678876251|2021-09-22|\n",
      "|   CURR|   FXD|  FXD|           32734782|              54853428|2021-09-22|\n",
      "|    IRD| LN_BR| null|               1111|                  2222|2022-10-06|\n",
      "|    IRD|   IRS| null|            2222222|               2222222|2024-10-15|\n",
      "|    SCF|   SCF|  SCF|            3815982|               3672136|      NULL|\n",
      "|    IRD| LN_BR| null|           14596583|              13774383|2020-12-29|\n",
      "|    IRD|   IRS| null|           18343978|              17356077|2024-10-15|\n",
      "|    IRD| LN_BR| null|           19203839|              18176215|2022-10-06|\n",
      "|    IRD|    CF| null|           20513130|              19433281|2021-07-06|\n",
      "|    IRD|    CF| null|           20533916|              19453781|2023-07-06|\n",
      "|    IRD|   IRS| null|           21183317|              20077630|2040-07-13|\n",
      "|    IRD|   IRS| null|           33333333|              33333333|2024-10-15|\n",
      "|    IRD|   IRS| null|          111222333|             111222333|2024-10-15|\n",
      "|    IRD|   IRS| null|          222333111|             222333111|2020-12-30|\n",
      "|    IRD|   IRS| null|          333111222|             333111222|2020-12-12|\n",
      "|    IRD|   IRS| null|          444111222|             444111222|      NULL|\n",
      "|    IRD|   IRS| null|          555111222|             555111222|      NULL|\n",
      "|    IRD|   IRS| null|          564367838|             564367838|2024-10-15|\n",
      "|    IRD|   IRS| null|          556111214|             556111214|      NULL|\n",
      "|    EQD| EQUIT|  FWD|           10000001|              10000001|2019-07-02|\n",
      "+-------+------+-----+-------------------+----------------------+----------+\n",
      "only showing top 20 rows\n",
      "\n"
     ]
    },
    {
     "data": {
      "text/plain": [
       "trade_join_maturity_eliminados: org.apache.spark.sql.DataFrame = [mfamily: string, mgroup: string ... 4 more fields]\r\n"
      ]
     },
     "execution_count": 6,
     "metadata": {},
     "output_type": "execute_result"
    }
   ],
   "source": [
    "// Eliminar las filas cuyo maturityReal no coincide con max(maturityReal)\n",
    "\n",
    "val trade_join_maturity_eliminados = trade_join_maturity_max.where($\"maturityReal\"===$\"max(maturityReal)\").drop(\"maturityReal\",\"max(maturityReal)\")\n",
    "\n",
    "// Asegurando que tengo tantas filas como debería (26)\n",
    "trade_join_maturity_eliminados.select(count(\"*\")).show()\n",
    "\n",
    "trade_join_maturity_eliminados.show()"
   ]
  },
  {
   "cell_type": "markdown",
   "id": "71edae2e-43e8-4b7a-8fdd-eea896cae503",
   "metadata": {},
   "source": [
    "### Resultado:"
   ]
  },
  {
   "cell_type": "markdown",
   "id": "05ab4c7c-65aa-4b54-bd14-7479a67893fa",
   "metadata": {},
   "source": [
    "**INSTRUCCIONES**: El DataFrame resultante debe almacenarse en la variable `resultado`, sustituyendo el valor `None` por el código que consideréis oportuno. De esta forma podréis comprobar si el resultado es correcto.\n"
   ]
  },
  {
   "cell_type": "code",
   "execution_count": 7,
   "id": "b3f6376b-fa7c-4226-a736-2c4f3b870a9e",
   "metadata": {},
   "outputs": [
    {
     "data": {
      "text/plain": [
       "resultado: org.apache.spark.sql.DataFrame = [mfamily: string, mgroup: string ... 4 more fields]\r\n"
      ]
     },
     "execution_count": 7,
     "metadata": {},
     "output_type": "execute_result"
    }
   ],
   "source": [
    "val resultado = trade_join_maturity_eliminados"
   ]
  },
  {
   "cell_type": "markdown",
   "id": "a1fe1f62-5956-4e00-9024-f3dc59db3238",
   "metadata": {},
   "source": [
    "Ejecuta la siguiente celda (no modifiques su código) y te dirá si tu solución es correcta o no. En caso de ser correcta, se ejecutará correctamente y no mostrará nada, pero si no lo es mostrará un error. Además de esas pruebas, se realizarán algunas más (ocultas) a la hora de puntuar el ejercicio, pero evaluar dicha celda es un indicador bastante fiable acerca de si realmente has implementado la solución correcta o no."
   ]
  },
  {
   "cell_type": "code",
   "execution_count": 8,
   "id": "dadcb308-a425-4812-81ba-d02df23a206f",
   "metadata": {},
   "outputs": [],
   "source": [
    "assert(resultado.count() == 26)\n",
    "assert(resultado.orderBy(\"origin_contract_number\").collect()(24)(4) == \"564367838\")\n",
    "assert(resultado.orderBy(\"origin_contract_number\").collect()(19)(5) == \"NULL\")\n",
    "assert(resultado.orderBy(\"origin_trade_number\").collect()(16)(5) == \"NULL\")"
   ]
  }
 ],
 "metadata": {
  "kernelspec": {
   "display_name": "spylon-kernel",
   "language": "scala",
   "name": "spylon-kernel"
  },
  "language_info": {
   "codemirror_mode": "text/x-scala",
   "file_extension": ".scala",
   "help_links": [
    {
     "text": "MetaKernel Magics",
     "url": "https://metakernel.readthedocs.io/en/latest/source/README.html"
    }
   ],
   "mimetype": "text/x-scala",
   "name": "scala",
   "pygments_lexer": "scala",
   "version": "0.4.1"
  }
 },
 "nbformat": 4,
 "nbformat_minor": 5
}
