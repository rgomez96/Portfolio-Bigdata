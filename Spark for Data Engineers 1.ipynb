{
 "cells": [
  {
   "cell_type": "markdown",
   "id": "f560a186-23c4-4152-b8b4-dab9373d3966",
   "metadata": {},
   "source": [
    "# **Reto I**"
   ]
  },
  {
   "cell_type": "markdown",
   "id": "2e83c93b-57ee-44e3-8bea-163bd4cd3ffd",
   "metadata": {},
   "source": [
    "### 1. Datasets\n",
    "\n",
    "Los datos de origen constan de dos archivos csv con la misma estructura y tipo de columnas.\n",
    "\n",
    "* trade_details: dataset original con datos reales de operaciones financieras.\n",
    "* trade_details_snapshot: copia de seguridad por posibles perdidas de datos.\n",
    "\n",
    "### 2. Columnas y significado:\n",
    "\n",
    "* mfamily: indica la familia de operaciones a la que pertenece.\n",
    "* mgroup: indica el grupo de operaciones dentro de la familia.\n",
    "* mtype: indica el tipo de operación dentro del grupo.\n",
    "* origin_trade_number: indica el número de la operación de trading (la misma operación puede tener varios números de trading).\n",
    "* origin_contract_number: indica el número de contrato de la operación (igual para todas las operaciones que pertenecen al mismo contrato).\n",
    "* maturity: fecha de finalización del contrato de cada operación.\n",
    "\n",
    "### 3. Descripción del problema:\n",
    "\n",
    "En estos datasets se encuentran varias operaciones financieras de distinto tipo, que diferenciaremos mediante los distintos valores de las columnas mfamily, mgroup y mtype.\n",
    "\n",
    "Existe un cierto tipo de operaciones especiales, llamadas FXSwaps. Estas pueden ser diferenciadas por medio de los siguientes valores:\n",
    "\n",
    "**mfamily = CURR** \\\n",
    "**mgroup = FXD** \\\n",
    "**mtype = SWLEG**\n",
    "\n",
    "Podemos ver en nuestro dataset que estas operaciones aparecen duplicadas, es decir, con el mismo **origin_contract_number** aunque distinto **origin_trade_number**. De estas operaciones duplicadas en origen, queremos obtener solo una de ellas.\n",
    "\n",
    "La forma para decidir cuál de las operaciones nos interesa obtener es mediante la columna *maturity*. De ambas operaciones de trading (distinto origin_trade_number) para un mismo contrato (origin_contract_number), queremos obtener solo la *long leg*, es decir, la que tiene una mayor fecha de vencimiento (fecha más actual de la columna maturity).\n",
    "\n",
    "Existe un cierto problema en nuestro dataset trade_details que tendremos que solucionar. Podemos ver que para algunas operaciones el campo maturity vendrá como *null*, es decir, sin informar. En estos casos, deberemos buscar esa operacion en el dataset trade_details_snapshot y el respectivo campo maturity para poder saber cuál de las dos operaciones es la *long leg* y filtrar la *short leg* \n",
    "\n",
    "**NOTA: Si se quiere conocer más el significado de estas operaciones financieras: https://es.wikipedia.org/wiki/Swap_(finanzas)**\n",
    "\n",
    "### 4. Reto:\n",
    "\n",
    "* Obtener un dataframe final donde tengamos todas las operaciones originales excepto los short leg de los contratos tipo FXSwap.\n",
    "* Aunque usemos el valor de la columna maturity del dataset trade_details_snapshot en los casos que venga en la trade_details a *null*, en el dataframe final deberá venir con el valor original de trade_details.\n",
    "* Hacerlo de la manera más eficiente posible a nivel computacional."
   ]
  },
  {
   "cell_type": "markdown",
   "id": "78b53f96-7b68-4b33-a20b-84fd8dbd0e1a",
   "metadata": {},
   "source": [
    "### Inicialización de SparkSession:"
   ]
  },
  {
   "cell_type": "code",
   "execution_count": null,
   "id": "a5da8fad-c1ee-42ad-88ba-1c6587e6de5f",
   "metadata": {},
   "outputs": [],
   "source": [
    "import org.apache.spark.sql.SparkSession\n",
    "\n",
    "val spark = SparkSession.builder()\n",
    "                        .appName(\"Reto 1\")\n",
    "                        .master(\"local\")\n",
    "                        .getOrCreate()"
   ]
  },
  {
   "cell_type": "markdown",
   "id": "0c747da1-d0a9-4499-9196-dd0ea980cb5b",
   "metadata": {},
   "source": [
    "### Carga de CSV"
   ]
  },
  {
   "cell_type": "code",
   "execution_count": null,
   "id": "18334cd9-be3c-44e8-a9c3-417030a844e8",
   "metadata": {},
   "outputs": [],
   "source": [
    "val trade_details = spark.read.format(\"csv\")\n",
    "                              .option(\"header\", \"true\")\n",
    "                              .option(\"delimiter\", \";\")\n",
    "                              .load(\"./reto1/trade_details.csv\")\n",
    "\n",
    "val trade_details_snapshot = spark.read.format(\"csv\")\n",
    "                                       .option(\"header\", \"true\")\n",
    "                                       .option(\"delimiter\", \";\")\n",
    "                                       .load(\"./reto1/trade_details_snapshot.csv\")"
   ]
  },
  {
   "cell_type": "code",
   "execution_count": null,
   "id": "93dea296-3273-474c-8d3d-01258c14df04",
   "metadata": {},
   "outputs": [],
   "source": []
  },
  {
   "cell_type": "markdown",
   "id": "71edae2e-43e8-4b7a-8fdd-eea896cae503",
   "metadata": {},
   "source": [
    "### Resultado:"
   ]
  },
  {
   "cell_type": "markdown",
   "id": "05ab4c7c-65aa-4b54-bd14-7479a67893fa",
   "metadata": {},
   "source": [
    "**INSTRUCCIONES**: El DataFrame resultante debe almacenarse en la variable `resultado`, sustituyendo el valor `None` por el código que consideréis oportuno. De esta forma podréis comprobar si el resultado es correcto.\n"
   ]
  },
  {
   "cell_type": "code",
   "execution_count": null,
   "id": "b3f6376b-fa7c-4226-a736-2c4f3b870a9e",
   "metadata": {},
   "outputs": [],
   "source": [
    "val resultado = None"
   ]
  },
  {
   "cell_type": "markdown",
   "id": "a1fe1f62-5956-4e00-9024-f3dc59db3238",
   "metadata": {},
   "source": [
    "Ejecuta la siguiente celda (no modifiques su código) y te dirá si tu solución es correcta o no. En caso de ser correcta, se ejecutará correctamente y no mostrará nada, pero si no lo es mostrará un error. Además de esas pruebas, se realizarán algunas más (ocultas) a la hora de puntuar el ejercicio, pero evaluar dicha celda es un indicador bastante fiable acerca de si realmente has implementado la solución correcta o no."
   ]
  },
  {
   "cell_type": "code",
   "execution_count": null,
   "id": "dadcb308-a425-4812-81ba-d02df23a206f",
   "metadata": {},
   "outputs": [],
   "source": [
    "assert(resultado.count() == 26)\n",
    "assert(resultado.orderBy(\"origin_contract_number\").collect()(24)(4) == \"564367838\")\n",
    "assert(resultado.orderBy(\"origin_contract_number\").collect()(19)(5) == \"NULL\")\n",
    "assert(resultado.orderBy(\"origin_trade_number\").collect()(16)(5) == \"NULL\")"
   ]
  }
 ],
 "metadata": {
  "kernelspec": {
   "display_name": "spylon-kernel",
   "language": "scala",
   "name": "spylon-kernel"
  },
  "language_info": {
   "codemirror_mode": "text/x-scala",
   "file_extension": ".scala",
   "help_links": [
    {
     "text": "MetaKernel Magics",
     "url": "https://metakernel.readthedocs.io/en/latest/source/README.html"
    }
   ],
   "mimetype": "text/x-scala",
   "name": "scala",
   "pygments_lexer": "scala",
   "version": "0.4.1"
  }
 },
 "nbformat": 4,
 "nbformat_minor": 5
}
