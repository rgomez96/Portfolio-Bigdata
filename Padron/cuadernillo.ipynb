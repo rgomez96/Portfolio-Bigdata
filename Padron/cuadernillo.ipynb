{
 "cells": [
  {
   "cell_type": "markdown",
   "metadata": {},
   "source": [
    "# 6- Un poquito de Spark"
   ]
  },
  {
   "cell_type": "markdown",
   "metadata": {},
   "source": [
    "### 6.1 Comenzamos realizando la misma práctica que hicimos en Hive en Spark, importando el CSV. Sería recomentable intentarlo con opciones que quiten las \"\" de los campos, que ignoren los espacios innecesarios en los campos, que sustituyan los valores vacíos por 0 y que infiera el esquema. "
   ]
  },
  {
   "cell_type": "code",
   "execution_count": 1,
   "metadata": {},
   "outputs": [],
   "source": [
    "from pyspark.sql import SparkSession\n",
    "from pyspark import SparkContext\n",
    "from pyspark.sql import functions as F\n",
    "from pyspark.sql.types import *"
   ]
  },
  {
   "cell_type": "code",
   "execution_count": 2,
   "metadata": {},
   "outputs": [],
   "source": [
    "spark = (SparkSession\n",
    ".builder\n",
    ".enableHiveSupport()\n",
    ".appName(\"Ejer6 \")\n",
    ".getOrCreate())"
   ]
  },
  {
   "cell_type": "code",
   "execution_count": 3,
   "metadata": {},
   "outputs": [],
   "source": [
    "spark.stop()\n",
    "\n",
    "spark = (SparkSession\n",
    ".builder\n",
    ".enableHiveSupport()\n",
    ".appName(\"Ejer6 \")\n",
    ".getOrCreate())"
   ]
  },
  {
   "cell_type": "code",
   "execution_count": 4,
   "metadata": {},
   "outputs": [
    {
     "name": "stdout",
     "output_type": "stream",
     "text": [
      "+------------+-------------+---------------+-----------+----------+----------------+-----------+------------+----------------+----------------+------------------+------------------+\n",
      "|COD_DISTRITO|DESC_DISTRITO|COD_DIST_BARRIO|DESC_BARRIO|COD_BARRIO|COD_DIST_SECCION|COD_SECCION|COD_EDAD_INT|EspanolesHombres|EspanolesMujeres|ExtranjerosHombres|ExtranjerosMujeres|\n",
      "+------------+-------------+---------------+-----------+----------+----------------+-----------+------------+----------------+----------------+------------------+------------------+\n",
      "|           1|       CENTRO|            101|    PALACIO|         1|            1001|          1|           0|               2|               3|                 1|                 0|\n",
      "|           1|       CENTRO|            101|    PALACIO|         1|            1001|          1|           1|               7|               0|                 1|                 0|\n",
      "|           1|       CENTRO|            101|    PALACIO|         1|            1001|          1|           2|               2|               3|                 0|                 5|\n",
      "|           1|       CENTRO|            101|    PALACIO|         1|            1001|          1|           3|               3|               1|                 0|                 0|\n",
      "|           1|       CENTRO|            101|    PALACIO|         1|            1001|          1|           4|               2|               0|                 1|                 3|\n",
      "|           1|       CENTRO|            101|    PALACIO|         1|            1001|          1|           5|               2|               3|                 0|                 0|\n",
      "|           1|       CENTRO|            101|    PALACIO|         1|            1001|          1|           6|               1|               0|                 2|                 1|\n",
      "|           1|       CENTRO|            101|    PALACIO|         1|            1001|          1|           7|               1|               2|                 0|                 0|\n",
      "|           1|       CENTRO|            101|    PALACIO|         1|            1001|          1|           8|               3|               2|                 1|                 2|\n",
      "|           1|       CENTRO|            101|    PALACIO|         1|            1001|          1|           9|               3|               0|                 0|                 1|\n",
      "|           1|       CENTRO|            101|    PALACIO|         1|            1001|          1|          10|               2|               3|                 0|                 0|\n",
      "|           1|       CENTRO|            101|    PALACIO|         1|            1001|          1|          11|               5|               1|                 1|                 0|\n",
      "|           1|       CENTRO|            101|    PALACIO|         1|            1001|          1|          12|               1|               4|                 0|                 0|\n",
      "|           1|       CENTRO|            101|    PALACIO|         1|            1001|          1|          13|               4|               2|                 0|                 0|\n",
      "|           1|       CENTRO|            101|    PALACIO|         1|            1001|          1|          14|               1|               1|                 0|                 2|\n",
      "|           1|       CENTRO|            101|    PALACIO|         1|            1001|          1|          15|               4|               4|                 0|                 0|\n",
      "|           1|       CENTRO|            101|    PALACIO|         1|            1001|          1|          16|               3|               3|                 0|                 0|\n",
      "|           1|       CENTRO|            101|    PALACIO|         1|            1001|          1|          17|               2|               1|                 1|                 1|\n",
      "|           1|       CENTRO|            101|    PALACIO|         1|            1001|          1|          18|               3|               7|                 1|                 0|\n",
      "|           1|       CENTRO|            101|    PALACIO|         1|            1001|          1|          19|               4|               2|                 1|                 2|\n",
      "+------------+-------------+---------------+-----------+----------+----------------+-----------+------------+----------------+----------------+------------------+------------------+\n",
      "only showing top 20 rows\n",
      "\n"
     ]
    }
   ],
   "source": [
    "df = (spark.read.format(\"csv\")\n",
    "    .option('header','true')\n",
    "    .option('inferSchema','true')\n",
    "    .option('delimiter',';')\n",
    "    .load('rango.csv')\n",
    "    .withColumn('DESC_DISTRITO',F.trim(F.col('DESC_DISTRITO')))\n",
    "    .withColumn('DESC_BARRIO', F.trim(F.col('DESC_BARRIO')))\n",
    "    .na.fill(0)\n",
    "    )\n",
    "\n",
    "df.show()"
   ]
  },
  {
   "cell_type": "code",
   "execution_count": 5,
   "metadata": {},
   "outputs": [
    {
     "name": "stdout",
     "output_type": "stream",
     "text": [
      "+--------------------+\n",
      "|         DESC_BARRIO|\n",
      "+--------------------+\n",
      "|        VALDEFUENTES|\n",
      "|            ABRANTES|\n",
      "|       LOS JERONIMOS|\n",
      "|            VALVERDE|\n",
      "|              CORTES|\n",
      "|   PALOMERAS SURESTE|\n",
      "|CIUDAD UNIVERSITARIA|\n",
      "|      CUATRO VIENTOS|\n",
      "|           TRAFALGAR|\n",
      "|              HELLIN|\n",
      "|    ALAMEDA DE OSUNA|\n",
      "|          PRADOLONGO|\n",
      "|            MOSCARDO|\n",
      "|          VALDEZARZA|\n",
      "|           RECOLETOS|\n",
      "|             HORCAJO|\n",
      "|        EL CAÑAVERAL|\n",
      "|        VISTA ALEGRE|\n",
      "|             EL VISO|\n",
      "|    PUERTA DEL ANGEL|\n",
      "+--------------------+\n",
      "only showing top 20 rows\n",
      "\n"
     ]
    }
   ],
   "source": [
    "#df.select($\"DESC_BARRIO\").distinct().show()\n",
    "df.select(F.col('DESC_BARRIO')).distinct().show()"
   ]
  },
  {
   "cell_type": "markdown",
   "metadata": {},
   "source": [
    "### 6.4 Crea una vista temporal de nombre \"padron\" y a través de ella cuenta el número de barrios diferentes que hay"
   ]
  },
  {
   "cell_type": "code",
   "execution_count": 6,
   "metadata": {},
   "outputs": [
    {
     "name": "stdout",
     "output_type": "stream",
     "text": [
      "+--------------------------+\n",
      "|count(DISTINCT cod_barrio)|\n",
      "+--------------------------+\n",
      "|                         9|\n",
      "+--------------------------+\n",
      "\n"
     ]
    }
   ],
   "source": [
    "df.createOrReplaceTempView(\"padron\")\n",
    "\n",
    "spark.sql(\"select count(distinct(cod_barrio)) from padron\").show()"
   ]
  },
  {
   "cell_type": "markdown",
   "metadata": {},
   "source": [
    "### 6.5 Crea una nueva columna que muestre la longitud de los campos de la columna  DESC_DISTRITO y que se llame \"longitud\"."
   ]
  },
  {
   "cell_type": "code",
   "execution_count": 7,
   "metadata": {},
   "outputs": [
    {
     "name": "stdout",
     "output_type": "stream",
     "text": [
      "+------------+-------------+---------------+-----------+----------+----------------+-----------+------------+----------------+----------------+------------------+------------------+--------+\n",
      "|COD_DISTRITO|DESC_DISTRITO|COD_DIST_BARRIO|DESC_BARRIO|COD_BARRIO|COD_DIST_SECCION|COD_SECCION|COD_EDAD_INT|EspanolesHombres|EspanolesMujeres|ExtranjerosHombres|ExtranjerosMujeres|longitud|\n",
      "+------------+-------------+---------------+-----------+----------+----------------+-----------+------------+----------------+----------------+------------------+------------------+--------+\n",
      "|           1|       CENTRO|            101|    PALACIO|         1|            1001|          1|           0|               2|               3|                 1|                 0|       6|\n",
      "|           1|       CENTRO|            101|    PALACIO|         1|            1001|          1|           1|               7|               0|                 1|                 0|       6|\n",
      "|           1|       CENTRO|            101|    PALACIO|         1|            1001|          1|           2|               2|               3|                 0|                 5|       6|\n",
      "|           1|       CENTRO|            101|    PALACIO|         1|            1001|          1|           3|               3|               1|                 0|                 0|       6|\n",
      "|           1|       CENTRO|            101|    PALACIO|         1|            1001|          1|           4|               2|               0|                 1|                 3|       6|\n",
      "|           1|       CENTRO|            101|    PALACIO|         1|            1001|          1|           5|               2|               3|                 0|                 0|       6|\n",
      "|           1|       CENTRO|            101|    PALACIO|         1|            1001|          1|           6|               1|               0|                 2|                 1|       6|\n",
      "|           1|       CENTRO|            101|    PALACIO|         1|            1001|          1|           7|               1|               2|                 0|                 0|       6|\n",
      "|           1|       CENTRO|            101|    PALACIO|         1|            1001|          1|           8|               3|               2|                 1|                 2|       6|\n",
      "|           1|       CENTRO|            101|    PALACIO|         1|            1001|          1|           9|               3|               0|                 0|                 1|       6|\n",
      "|           1|       CENTRO|            101|    PALACIO|         1|            1001|          1|          10|               2|               3|                 0|                 0|       6|\n",
      "|           1|       CENTRO|            101|    PALACIO|         1|            1001|          1|          11|               5|               1|                 1|                 0|       6|\n",
      "|           1|       CENTRO|            101|    PALACIO|         1|            1001|          1|          12|               1|               4|                 0|                 0|       6|\n",
      "|           1|       CENTRO|            101|    PALACIO|         1|            1001|          1|          13|               4|               2|                 0|                 0|       6|\n",
      "|           1|       CENTRO|            101|    PALACIO|         1|            1001|          1|          14|               1|               1|                 0|                 2|       6|\n",
      "|           1|       CENTRO|            101|    PALACIO|         1|            1001|          1|          15|               4|               4|                 0|                 0|       6|\n",
      "|           1|       CENTRO|            101|    PALACIO|         1|            1001|          1|          16|               3|               3|                 0|                 0|       6|\n",
      "|           1|       CENTRO|            101|    PALACIO|         1|            1001|          1|          17|               2|               1|                 1|                 1|       6|\n",
      "|           1|       CENTRO|            101|    PALACIO|         1|            1001|          1|          18|               3|               7|                 1|                 0|       6|\n",
      "|           1|       CENTRO|            101|    PALACIO|         1|            1001|          1|          19|               4|               2|                 1|                 2|       6|\n",
      "+------------+-------------+---------------+-----------+----------+----------------+-----------+------------+----------------+----------------+------------------+------------------+--------+\n",
      "only showing top 20 rows\n",
      "\n"
     ]
    }
   ],
   "source": [
    "df.withColumn(\"longitud\",F.length((\"DESC_DISTRITO\"))).show()"
   ]
  },
  {
   "cell_type": "markdown",
   "metadata": {},
   "source": [
    "### 6.6 Crea una nueva columna que muestre el valor 5 para cada uno de los registros de la tabla. "
   ]
  },
  {
   "cell_type": "code",
   "execution_count": 8,
   "metadata": {},
   "outputs": [
    {
     "name": "stdout",
     "output_type": "stream",
     "text": [
      "+------------+-------------+---------------+-----------+----------+----------------+-----------+------------+----------------+----------------+------------------+------------------+---------+\n",
      "|COD_DISTRITO|DESC_DISTRITO|COD_DIST_BARRIO|DESC_BARRIO|COD_BARRIO|COD_DIST_SECCION|COD_SECCION|COD_EDAD_INT|EspanolesHombres|EspanolesMujeres|ExtranjerosHombres|ExtranjerosMujeres|uncincoxd|\n",
      "+------------+-------------+---------------+-----------+----------+----------------+-----------+------------+----------------+----------------+------------------+------------------+---------+\n",
      "|           1|       CENTRO|            101|    PALACIO|         1|            1001|          1|           0|               2|               3|                 1|                 0|        5|\n",
      "|           1|       CENTRO|            101|    PALACIO|         1|            1001|          1|           1|               7|               0|                 1|                 0|        5|\n",
      "|           1|       CENTRO|            101|    PALACIO|         1|            1001|          1|           2|               2|               3|                 0|                 5|        5|\n",
      "|           1|       CENTRO|            101|    PALACIO|         1|            1001|          1|           3|               3|               1|                 0|                 0|        5|\n",
      "|           1|       CENTRO|            101|    PALACIO|         1|            1001|          1|           4|               2|               0|                 1|                 3|        5|\n",
      "+------------+-------------+---------------+-----------+----------+----------------+-----------+------------+----------------+----------------+------------------+------------------+---------+\n",
      "only showing top 5 rows\n",
      "\n"
     ]
    }
   ],
   "source": [
    "dfcinco = df.withColumn(\"uncincoxd\", F.lit(5)).show(5)"
   ]
  },
  {
   "cell_type": "markdown",
   "metadata": {},
   "source": [
    "### 6.7 Borra esa columna"
   ]
  },
  {
   "cell_type": "code",
   "execution_count": 9,
   "metadata": {},
   "outputs": [],
   "source": [
    "dfcinco = df.drop(F.col(\"uncincoxd\"))"
   ]
  },
  {
   "cell_type": "markdown",
   "metadata": {},
   "source": [
    "### 6.8 Particiona el DataFrame por las variables DESC_DISTRITO y DESC_BARRIO"
   ]
  },
  {
   "cell_type": "code",
   "execution_count": 10,
   "metadata": {},
   "outputs": [
    {
     "name": "stdout",
     "output_type": "stream",
     "text": [
      "200\n"
     ]
    }
   ],
   "source": [
    "dfpartition = df.repartition(\"DESC_DISTRITO\",\"DESC_BARRIO\")\n",
    "print(dfpartition.rdd.getNumPartitions())"
   ]
  },
  {
   "cell_type": "markdown",
   "metadata": {},
   "source": [
    "### 6.9 Almacénalo en caché. Consulta en el puerto 4040 (UI de Spark) de tu usuario local el estado de los rdds almacenados."
   ]
  },
  {
   "cell_type": "code",
   "execution_count": 11,
   "metadata": {},
   "outputs": [
    {
     "data": {
      "text/plain": [
       "DataFrame[COD_DISTRITO: int, DESC_DISTRITO: string, COD_DIST_BARRIO: int, DESC_BARRIO: string, COD_BARRIO: int, COD_DIST_SECCION: int, COD_SECCION: int, COD_EDAD_INT: int, EspanolesHombres: int, EspanolesMujeres: int, ExtranjerosHombres: int, ExtranjerosMujeres: int]"
      ]
     },
     "execution_count": 11,
     "metadata": {},
     "output_type": "execute_result"
    }
   ],
   "source": [
    "dfpartition.cache()"
   ]
  },
  {
   "cell_type": "markdown",
   "metadata": {},
   "source": [
    "### 6.10 Lanza una consulta contra el DF resultante en la que muestre el número total de \"espanoleshombres\", \"espanolesmujeres\", extranjeroshombres\" y \"extranjerosmujeres\" para cada barrio de cada distrito. Las columnas distrito y barrio deben ser las primeras en aparecer en el show. Los resultados deben estar ordenados en orden de más a menos según la columna \"extranjerosmujeres\" y desempatarán por la columna \"extranjeroshombres\"."
   ]
  },
  {
   "cell_type": "code",
   "execution_count": 12,
   "metadata": {},
   "outputs": [
    {
     "name": "stdout",
     "output_type": "stream",
     "text": [
      "+------------------+------------+---------------------+---------------------+-----------------------+-----------------------+\n",
      "|     DESC_DISTRITO| DESC_BARRIO|sum(espanoleshombres)|sum(espanolesmujeres)|sum(extranjeroshombres)|sum(extranjerosmujeres)|\n",
      "+------------------+------------+---------------------+---------------------+-----------------------+-----------------------+\n",
      "|PUENTE DE VALLECAS|   SAN DIEGO|                13885|                15555|                   6871|                   7049|\n",
      "|            LATINA|      ALUCHE|                24928|                29666|                   5425|                   6313|\n",
      "|     CIUDAD LINEAL|PUEBLO NUEVO|                23255|                27261|                   5558|                   6291|\n",
      "|       CARABANCHEL|VISTA ALEGRE|                15926|                19377|                   5496|                   6143|\n",
      "|            CENTRO| EMBAJADORES|                16640|                16593|                   8214|                   6037|\n",
      "+------------------+------------+---------------------+---------------------+-----------------------+-----------------------+\n",
      "only showing top 5 rows\n",
      "\n"
     ]
    }
   ],
   "source": [
    "dfpartition.groupBy(F.col(\"DESC_DISTRITO\"),F.col(\"DESC_BARRIO\"))\\\n",
    "    .agg(F.sum(F.col(\"espanoleshombres\")),F.sum(F.col(\"espanolesmujeres\")),F.sum(F.col(\"extranjeroshombres\")),F.sum(\"extranjerosmujeres\"))\\\n",
    "        .orderBy(F.col(\"sum(extranjerosmujeres)\").desc(),F.col(\"sum(extranjeroshombres)\").desc())\\\n",
    "            .show(5)"
   ]
  },
  {
   "cell_type": "markdown",
   "metadata": {},
   "source": [
    "### 6.11 Elimina el registro en caché"
   ]
  },
  {
   "cell_type": "code",
   "execution_count": 13,
   "metadata": {},
   "outputs": [],
   "source": [
    "spark.catalog.clearCache()"
   ]
  },
  {
   "cell_type": "markdown",
   "metadata": {},
   "source": [
    "### 6.12 Crea un nuevo DataFrame a partir del original que muestre únicamente una columna con DESC_BARRIO, otra con DESC_DISTRITO y otra con el número total de \"espanoleshombres\" residentes en cada distrito de cada barrio. Únelo (con un join) con el DataFrame original a través de las columnas en común."
   ]
  },
  {
   "cell_type": "code",
   "execution_count": 14,
   "metadata": {},
   "outputs": [
    {
     "name": "stdout",
     "output_type": "stream",
     "text": [
      "+--------------+-------------------+---------------------+\n",
      "|   DESC_BARRIO|      DESC_DISTRITO|sum(espanoleshombres)|\n",
      "+--------------+-------------------+---------------------+\n",
      "|       ACACIAS|         ARGANZUELA|                15399|\n",
      "|      VALVERDE|FUENCARRAL-EL PARDO|                26922|\n",
      "|FUENTELARREINA|FUENCARRAL-EL PARDO|                 1445|\n",
      "|       PAVONES|          MORATALAZ|                 3584|\n",
      "|     EL GOLOSO|FUENCARRAL-EL PARDO|                 8947|\n",
      "+--------------+-------------------+---------------------+\n",
      "only showing top 5 rows\n",
      "\n"
     ]
    }
   ],
   "source": [
    "dfreduc = df.groupBy(F.col(\"DESC_BARRIO\"),F.col(\"DESC_DISTRITO\"))\\\n",
    "    .agg(F.sum(F.col(\"espanoleshombres\")))\n",
    "\n",
    "dfreduc.show(5)\n"
   ]
  },
  {
   "cell_type": "code",
   "execution_count": 15,
   "metadata": {},
   "outputs": [],
   "source": [
    "rangoDF_join = df.alias(\"fst\").join(dfreduc.alias(\"snd\"),\\\n",
    "(F.col(\"fst.DESC_BARRIO\") == F.col(\"snd.DESC_BARRIO\")) & \\\n",
    "(F.col(\"fst.DESC_DISTRITO\") == F.col(\"snd.DESC_DISTRITO\")))"
   ]
  },
  {
   "cell_type": "markdown",
   "metadata": {},
   "source": [
    "### 6.13 Repite la función anterior utilizando funciones de ventana. (over(Window.partitionBy.....))"
   ]
  },
  {
   "cell_type": "code",
   "execution_count": 17,
   "metadata": {},
   "outputs": [
    {
     "name": "stdout",
     "output_type": "stream",
     "text": [
      "+-----------+-------------+----------------+\n",
      "|DESC_BARRIO|DESC_DISTRITO|espanoleshombres|\n",
      "+-----------+-------------+----------------+\n",
      "|    ACACIAS|   ARGANZUELA|           15399|\n",
      "|    ACACIAS|   ARGANZUELA|           15399|\n",
      "|    ACACIAS|   ARGANZUELA|           15399|\n",
      "|    ACACIAS|   ARGANZUELA|           15399|\n",
      "|    ACACIAS|   ARGANZUELA|           15399|\n",
      "+-----------+-------------+----------------+\n",
      "only showing top 5 rows\n",
      "\n"
     ]
    }
   ],
   "source": [
    "dfreducnew = df.select(F.col(\"DESC_BARRIO\"),F.col(\"DESC_DISTRITO\"),\\\n",
    "    F.sum(F.col(\"espanoleshombres\")).over(Window.partitionBy(\"DESC_BARRIO\",\"DESC_DISTRITO\")).alias(\"espanoleshombres\"))\n",
    "\n",
    "dfreducnew.show(5)"
   ]
  },
  {
   "cell_type": "code",
   "execution_count": 18,
   "metadata": {},
   "outputs": [
    {
     "name": "stdout",
     "output_type": "stream",
     "text": [
      "+------------+-------------+---------------+-----------+----------+----------------+-----------+------------+----------------+----------------+------------------+------------------+-----------+-------------+----------------+\n",
      "|COD_DISTRITO|DESC_DISTRITO|COD_DIST_BARRIO|DESC_BARRIO|COD_BARRIO|COD_DIST_SECCION|COD_SECCION|COD_EDAD_INT|EspanolesHombres|EspanolesMujeres|ExtranjerosHombres|ExtranjerosMujeres|DESC_BARRIO|DESC_DISTRITO|espanoleshombres|\n",
      "+------------+-------------+---------------+-----------+----------+----------------+-----------+------------+----------------+----------------+------------------+------------------+-----------+-------------+----------------+\n",
      "|           2|   ARGANZUELA|            202|    ACACIAS|         2|            2085|         85|          26|               2|               1|                 0|                 1|    ACACIAS|   ARGANZUELA|           15399|\n",
      "|           2|   ARGANZUELA|            202|    ACACIAS|         2|            2085|         85|          26|               2|               1|                 0|                 1|    ACACIAS|   ARGANZUELA|           15399|\n",
      "|           2|   ARGANZUELA|            202|    ACACIAS|         2|            2085|         85|          26|               2|               1|                 0|                 1|    ACACIAS|   ARGANZUELA|           15399|\n",
      "|           2|   ARGANZUELA|            202|    ACACIAS|         2|            2085|         85|          26|               2|               1|                 0|                 1|    ACACIAS|   ARGANZUELA|           15399|\n",
      "|           2|   ARGANZUELA|            202|    ACACIAS|         2|            2085|         85|          26|               2|               1|                 0|                 1|    ACACIAS|   ARGANZUELA|           15399|\n",
      "+------------+-------------+---------------+-----------+----------+----------------+-----------+------------+----------------+----------------+------------------+------------------+-----------+-------------+----------------+\n",
      "only showing top 5 rows\n",
      "\n"
     ]
    }
   ],
   "source": [
    "rangoDF_join = df.alias(\"fst\").join(dfreducnew.alias(\"snd\"),\\\n",
    "(F.col(\"fst.DESC_BARRIO\") == F.col(\"snd.DESC_BARRIO\")) & \\\n",
    "(F.col(\"fst.DESC_DISTRITO\") == F.col(\"snd.DESC_DISTRITO\")))\n",
    "\n",
    "rangoDF_join.show(5)"
   ]
  },
  {
   "cell_type": "markdown",
   "metadata": {},
   "source": [
    "### 6.14 Mediante una función Pivot muestra una tabla (que va a ser una tabla de contingencia) quecontenga los valores totales ()la suma de valores) de espanolesmujeres para cada distrito y en cada rango de edad (COD_EDAD_INT). Los distritos incluidos deben ser únicamente CENTRO, BARAJAS y RETIRO y deben figurar como columnas . El aspecto debe ser similar a este:"
   ]
  },
  {
   "cell_type": "code",
   "execution_count": 19,
   "metadata": {},
   "outputs": [],
   "source": [
    "contingencia = df.groupBy(\"COD_EDAD_INT\").pivot(\"DESC_DISTRITO\").agg(F.sum(F.col(\"espanolesmujeres\")))\n",
    "\n",
    "contingencianew = contingencia.select(F.col(\"COD_EDAD_INT\"),F.col(\"BARAJAS\"),F.col(\"CENTRO\"),F.col(\"RETIRO\"))"
   ]
  },
  {
   "cell_type": "markdown",
   "metadata": {},
   "source": [
    "### 6.15 Utilizando este nuevo DF, crea 3 columnas nuevas que hagan referencia a qué porcentaje de la suma de \"espanolesmujeres\" en los tres distritos para cada rango de edad representa cada uno de los tres distritos. Debe estar redondeada a 2 decimales. Puedes imponerte la condición extra de no apoyarte en ninguna columna auxiliar creada para el caso."
   ]
  },
  {
   "cell_type": "code",
   "execution_count": 62,
   "metadata": {},
   "outputs": [
    {
     "name": "stdout",
     "output_type": "stream",
     "text": [
      "+------------+-------+------+------+\n",
      "|COD_EDAD_INT|BARAJAS|CENTRO|RETIRO|\n",
      "+------------+-------+------+------+\n",
      "|          31|    191|   860|   611|\n",
      "|          85|    105|   349|   531|\n",
      "|          65|    215|   631|   904|\n",
      "|          53|    354|   781|   774|\n",
      "|          78|    202|   457|   699|\n",
      "|         108|   null|     1|  null|\n",
      "|          34|    241|   813|   618|\n",
      "|         101|      4|    16|    20|\n",
      "|          81|    189|   440|   678|\n",
      "|          28|    155|   811|   656|\n",
      "|          76|    250|   461|   782|\n",
      "|          27|    146|   738|   543|\n",
      "|          26|    181|   668|   535|\n",
      "|          44|    380|   849|   788|\n",
      "|         103|      1|     6|     9|\n",
      "|          12|    263|   255|   433|\n",
      "|          91|     58|   234|   329|\n",
      "|          22|    202|   324|   427|\n",
      "|          93|     30|   191|   210|\n",
      "|         111|   null|     2|  null|\n",
      "+------------+-------+------+------+\n",
      "only showing top 20 rows\n",
      "\n"
     ]
    }
   ],
   "source": [
    "contingencianew.show()"
   ]
  },
  {
   "cell_type": "code",
   "execution_count": 67,
   "metadata": {},
   "outputs": [
    {
     "name": "stdout",
     "output_type": "stream",
     "text": [
      "133736\n"
     ]
    }
   ],
   "source": [
    "# Obtener total mujeres\n",
    "\n",
    "\n",
    "\n",
    "totales = contingencianew.select(F.sum(F.col(\"BARAJAS\")),F.sum(F.col(\"CENTRO\")),F.sum(F.col(\"RETIRO\"))).collect()\n",
    "\n",
    "# otra posibilidad: withcolumn que sume las otras 3 (mejor)\n",
    "suma = totales[0][0] + totales[0][1] + totales [0][2]\n",
    "\n",
    "print(suma)"
   ]
  },
  {
   "cell_type": "code",
   "execution_count": 68,
   "metadata": {},
   "outputs": [
    {
     "name": "stdout",
     "output_type": "stream",
     "text": [
      "133736\n",
      "+------------+-------+------+------+-----------------+\n",
      "|COD_EDAD_INT|BARAJAS|CENTRO|RETIRO|PORCENTAJEBARAJAS|\n",
      "+------------+-------+------+------+-----------------+\n",
      "|          31|    191|   860|   611|             0.14|\n",
      "|          85|    105|   349|   531|             0.08|\n",
      "|          65|    215|   631|   904|             0.16|\n",
      "|          53|    354|   781|   774|             0.26|\n",
      "|          78|    202|   457|   699|             0.15|\n",
      "|         108|   null|     1|  null|             null|\n",
      "|          34|    241|   813|   618|             0.18|\n",
      "|         101|      4|    16|    20|              0.0|\n",
      "|          81|    189|   440|   678|             0.14|\n",
      "|          28|    155|   811|   656|             0.12|\n",
      "|          76|    250|   461|   782|             0.19|\n",
      "|          27|    146|   738|   543|             0.11|\n",
      "|          26|    181|   668|   535|             0.14|\n",
      "|          44|    380|   849|   788|             0.28|\n",
      "|         103|      1|     6|     9|              0.0|\n",
      "|          12|    263|   255|   433|              0.2|\n",
      "|          91|     58|   234|   329|             0.04|\n",
      "|          22|    202|   324|   427|             0.15|\n",
      "|          93|     30|   191|   210|             0.02|\n",
      "|         111|   null|     2|  null|             null|\n",
      "+------------+-------+------+------+-----------------+\n",
      "only showing top 20 rows\n",
      "\n"
     ]
    }
   ],
   "source": [
    "print(suma)\n",
    "\n",
    "contingencianew.withColumn(\"PORCENTAJEBARAJAS\",F.round((F.col(\"BARAJAS\")/suma*100),2)).show()"
   ]
  }
 ],
 "metadata": {
  "interpreter": {
   "hash": "b3ba2566441a7c06988d0923437866b63cedc61552a5af99d1f4fb67d367b25f"
  },
  "kernelspec": {
   "display_name": "Python 3.9.7 64-bit ('base': conda)",
   "language": "python",
   "name": "python3"
  },
  "language_info": {
   "codemirror_mode": {
    "name": "ipython",
    "version": 3
   },
   "file_extension": ".py",
   "mimetype": "text/x-python",
   "name": "python",
   "nbconvert_exporter": "python",
   "pygments_lexer": "ipython3",
   "version": "3.9.7"
  },
  "orig_nbformat": 4
 },
 "nbformat": 4,
 "nbformat_minor": 2
}
